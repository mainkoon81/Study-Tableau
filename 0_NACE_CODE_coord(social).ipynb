{
 "cells": [
  {
   "cell_type": "code",
   "execution_count": 1,
   "metadata": {},
   "outputs": [],
   "source": [
    "# import NACE Code to extract coordinates\n",
    "\n",
    "import pandas as pd\n",
    "import numpy as np\n",
    "import matplotlib.pyplot as plt"
   ]
  },
  {
   "cell_type": "code",
   "execution_count": 3,
   "metadata": {},
   "outputs": [
    {
     "name": "stderr",
     "output_type": "stream",
     "text": [
      "c:\\users\\minkun\\appdata\\local\\programs\\python\\python37\\lib\\site-packages\\pandas\\util\\_decorators.py:188: FutureWarning: The `sheetname` keyword is deprecated, use `sheet_name` instead\n",
      "  return func(*args, **kwargs)\n"
     ]
    }
   ],
   "source": [
    "# 1. Regilious_Activities_S.94.91\n",
    "\n",
    "df_church = pd.read_excel('./Pre-processing/George_DCC_code/Original Data/NACECodes for social_E2.xlsx', sheetname='Regilious_Activities_S.94.91')"
   ]
  },
  {
   "cell_type": "code",
   "execution_count": 4,
   "metadata": {
    "scrolled": true
   },
   "outputs": [
    {
     "name": "stdout",
     "output_type": "stream",
     "text": [
      "<class 'pandas.core.frame.DataFrame'>\n",
      "RangeIndex: 368 entries, 0 to 367\n",
      "Data columns (total 29 columns):\n",
      "Eircode                       367 non-null object\n",
      "NO                            116 non-null object\n",
      "Streetname                    368 non-null object\n",
      "NAME                          368 non-null object\n",
      "Sub_Building_Name             173 non-null object\n",
      "COMMERCIAL_DELIVERY_POINTS    368 non-null int64\n",
      "COUNTY_ID                     368 non-null int64\n",
      "TLAND_ID                      0 non-null float64\n",
      "VERIFIED                      368 non-null object\n",
      "EAST                          368 non-null float64\n",
      "NORTH                         368 non-null float64\n",
      "LOCALITY_ID                   241 non-null float64\n",
      "SECONDARY_LOCALITY_ID         0 non-null float64\n",
      "ITM_EAST                      368 non-null float64\n",
      "ITM_NORTH                     368 non-null float64\n",
      "QUALITY_CONTROL               368 non-null object\n",
      "PPZ_ID                        363 non-null float64\n",
      "HOLIDAY_HOME                  368 non-null object\n",
      "DEMOLISHED                    368 non-null object\n",
      "CREATE_DATE                   368 non-null datetime64[ns]\n",
      "LATITUDE                      368 non-null float64\n",
      "LONGITUDE                     368 non-null float64\n",
      "BUILDING_NUMBER_NUMERIC       95 non-null float64\n",
      "BUILDING_NUMBER_ALPHA         16 non-null object\n",
      "LA_ID                         368 non-null int64\n",
      "VO_ID                         0 non-null float64\n",
      "THORFARE_ID                   368 non-null int64\n",
      "LOCALITY_POSTALLY_REQ         368 non-null object\n",
      "SMALL_AREA_ID                 367 non-null float64\n",
      "dtypes: datetime64[ns](1), float64(13), int64(4), object(11)\n",
      "memory usage: 83.5+ KB\n"
     ]
    }
   ],
   "source": [
    "df_church.info()"
   ]
  },
  {
   "cell_type": "code",
   "execution_count": 3,
   "metadata": {},
   "outputs": [
    {
     "data": {
      "text/html": [
       "<div>\n",
       "<style scoped>\n",
       "    .dataframe tbody tr th:only-of-type {\n",
       "        vertical-align: middle;\n",
       "    }\n",
       "\n",
       "    .dataframe tbody tr th {\n",
       "        vertical-align: top;\n",
       "    }\n",
       "\n",
       "    .dataframe thead th {\n",
       "        text-align: right;\n",
       "    }\n",
       "</style>\n",
       "<table border=\"1\" class=\"dataframe\">\n",
       "  <thead>\n",
       "    <tr style=\"text-align: right;\">\n",
       "      <th></th>\n",
       "      <th>NAME</th>\n",
       "      <th>LATITUDE</th>\n",
       "      <th>LONGITUDE</th>\n",
       "      <th>COMMERCIAL_DELIVERY_POINTS</th>\n",
       "    </tr>\n",
       "  </thead>\n",
       "  <tbody>\n",
       "    <tr>\n",
       "      <th>0</th>\n",
       "      <td>CHRISTIAN LIFE COMMUNITIES</td>\n",
       "      <td>53.333485</td>\n",
       "      <td>-6.254570</td>\n",
       "      <td>4</td>\n",
       "    </tr>\n",
       "    <tr>\n",
       "      <th>1</th>\n",
       "      <td>JESUIT COMMUNICATION CENTRE</td>\n",
       "      <td>53.333485</td>\n",
       "      <td>-6.254570</td>\n",
       "      <td>4</td>\n",
       "    </tr>\n",
       "    <tr>\n",
       "      <th>2</th>\n",
       "      <td>JESUIT COMMUNITY</td>\n",
       "      <td>53.333485</td>\n",
       "      <td>-6.254570</td>\n",
       "      <td>4</td>\n",
       "    </tr>\n",
       "    <tr>\n",
       "      <th>3</th>\n",
       "      <td>ST. PATRICKS MISSIONARY SOCIETY</td>\n",
       "      <td>53.328424</td>\n",
       "      <td>-6.252335</td>\n",
       "      <td>1</td>\n",
       "    </tr>\n",
       "    <tr>\n",
       "      <th>4</th>\n",
       "      <td>NATIONAL BAHÁ'Í CENTRE</td>\n",
       "      <td>53.330353</td>\n",
       "      <td>-6.246827</td>\n",
       "      <td>1</td>\n",
       "    </tr>\n",
       "    <tr>\n",
       "      <th>5</th>\n",
       "      <td>THE THEOSOPHICAL SOCIETY OF IRELAND</td>\n",
       "      <td>53.332223</td>\n",
       "      <td>-6.241064</td>\n",
       "      <td>3</td>\n",
       "    </tr>\n",
       "    <tr>\n",
       "      <th>6</th>\n",
       "      <td>BLESSED SACRAMENT CHAPEL</td>\n",
       "      <td>53.347217</td>\n",
       "      <td>-6.261339</td>\n",
       "      <td>1</td>\n",
       "    </tr>\n",
       "    <tr>\n",
       "      <th>7</th>\n",
       "      <td>CHURCH OF SCIENTOLOGY</td>\n",
       "      <td>53.341071</td>\n",
       "      <td>-6.250084</td>\n",
       "      <td>1</td>\n",
       "    </tr>\n",
       "    <tr>\n",
       "      <th>8</th>\n",
       "      <td>REGAL HOUSE</td>\n",
       "      <td>53.342293</td>\n",
       "      <td>-6.227146</td>\n",
       "      <td>1</td>\n",
       "    </tr>\n",
       "    <tr>\n",
       "      <th>9</th>\n",
       "      <td>IMMANUEL CHURCH DUBLIN</td>\n",
       "      <td>53.347472</td>\n",
       "      <td>-6.260490</td>\n",
       "      <td>2</td>\n",
       "    </tr>\n",
       "    <tr>\n",
       "      <th>10</th>\n",
       "      <td>LUTHIERS</td>\n",
       "      <td>53.349976</td>\n",
       "      <td>-6.269190</td>\n",
       "      <td>5</td>\n",
       "    </tr>\n",
       "    <tr>\n",
       "      <th>11</th>\n",
       "      <td>THE CRIPT</td>\n",
       "      <td>53.330529</td>\n",
       "      <td>-6.264173</td>\n",
       "      <td>3</td>\n",
       "    </tr>\n",
       "    <tr>\n",
       "      <th>12</th>\n",
       "      <td>LEGION OF MARY CONVENT</td>\n",
       "      <td>53.340559</td>\n",
       "      <td>-6.274515</td>\n",
       "      <td>1</td>\n",
       "    </tr>\n",
       "    <tr>\n",
       "      <th>13</th>\n",
       "      <td>PAX CHRISTI IRELAND</td>\n",
       "      <td>53.327814</td>\n",
       "      <td>-6.264347</td>\n",
       "      <td>1</td>\n",
       "    </tr>\n",
       "    <tr>\n",
       "      <th>14</th>\n",
       "      <td>DUBLIN CHRISTIAN MISSION</td>\n",
       "      <td>53.346019</td>\n",
       "      <td>-6.272173</td>\n",
       "      <td>1</td>\n",
       "    </tr>\n",
       "    <tr>\n",
       "      <th>15</th>\n",
       "      <td>KAGYU BUDDHISM IRELAND</td>\n",
       "      <td>53.342505</td>\n",
       "      <td>-6.311563</td>\n",
       "      <td>1</td>\n",
       "    </tr>\n",
       "    <tr>\n",
       "      <th>16</th>\n",
       "      <td>BENIDICTA HOUSE</td>\n",
       "      <td>53.338661</td>\n",
       "      <td>-6.301922</td>\n",
       "      <td>1</td>\n",
       "    </tr>\n",
       "    <tr>\n",
       "      <th>17</th>\n",
       "      <td>PARISH OF THE TRAVELLING PEOPLE</td>\n",
       "      <td>53.360663</td>\n",
       "      <td>-6.277936</td>\n",
       "      <td>2</td>\n",
       "    </tr>\n",
       "    <tr>\n",
       "      <th>18</th>\n",
       "      <td>VIATORES CHRISTI</td>\n",
       "      <td>53.360692</td>\n",
       "      <td>-6.278157</td>\n",
       "      <td>1</td>\n",
       "    </tr>\n",
       "    <tr>\n",
       "      <th>19</th>\n",
       "      <td>PRESENTATA</td>\n",
       "      <td>53.359158</td>\n",
       "      <td>-6.281625</td>\n",
       "      <td>1</td>\n",
       "    </tr>\n",
       "    <tr>\n",
       "      <th>20</th>\n",
       "      <td>ARRUPE SOCIETY</td>\n",
       "      <td>53.358729</td>\n",
       "      <td>-6.259452</td>\n",
       "      <td>4</td>\n",
       "    </tr>\n",
       "    <tr>\n",
       "      <th>21</th>\n",
       "      <td>JESUIT CENTRE FOR FAITH AND JUSTICE</td>\n",
       "      <td>53.358729</td>\n",
       "      <td>-6.259452</td>\n",
       "      <td>4</td>\n",
       "    </tr>\n",
       "    <tr>\n",
       "      <th>22</th>\n",
       "      <td>PASTORAL CENTRE</td>\n",
       "      <td>53.343075</td>\n",
       "      <td>-6.349495</td>\n",
       "      <td>1</td>\n",
       "    </tr>\n",
       "    <tr>\n",
       "      <th>23</th>\n",
       "      <td>DIVINE WORLD MISSIONARIE'S</td>\n",
       "      <td>53.356431</td>\n",
       "      <td>-6.291914</td>\n",
       "      <td>1</td>\n",
       "    </tr>\n",
       "    <tr>\n",
       "      <th>24</th>\n",
       "      <td>HOLY TRINITY CHURCH PARISH OFFICE</td>\n",
       "      <td>53.396343</td>\n",
       "      <td>-6.164091</td>\n",
       "      <td>1</td>\n",
       "    </tr>\n",
       "    <tr>\n",
       "      <th>25</th>\n",
       "      <td>SAINT THERESE'S CLUB</td>\n",
       "      <td>53.356857</td>\n",
       "      <td>-6.256105</td>\n",
       "      <td>1</td>\n",
       "    </tr>\n",
       "    <tr>\n",
       "      <th>26</th>\n",
       "      <td>STRATFORD COLLEGE</td>\n",
       "      <td>53.309701</td>\n",
       "      <td>-6.274318</td>\n",
       "      <td>3</td>\n",
       "    </tr>\n",
       "    <tr>\n",
       "      <th>27</th>\n",
       "      <td>THE CHAPLINS OFFICE</td>\n",
       "      <td>53.317033</td>\n",
       "      <td>-6.255502</td>\n",
       "      <td>2</td>\n",
       "    </tr>\n",
       "    <tr>\n",
       "      <th>28</th>\n",
       "      <td>DIVINE WORD MISSIONARIES</td>\n",
       "      <td>53.332660</td>\n",
       "      <td>-6.243177</td>\n",
       "      <td>1</td>\n",
       "    </tr>\n",
       "    <tr>\n",
       "      <th>29</th>\n",
       "      <td>FRANCISCAN MISSIONARY SISTERS OF AFRICA</td>\n",
       "      <td>53.329237</td>\n",
       "      <td>-6.213861</td>\n",
       "      <td>1</td>\n",
       "    </tr>\n",
       "    <tr>\n",
       "      <th>...</th>\n",
       "      <td>...</td>\n",
       "      <td>...</td>\n",
       "      <td>...</td>\n",
       "      <td>...</td>\n",
       "    </tr>\n",
       "    <tr>\n",
       "      <th>338</th>\n",
       "      <td>PRESENTATION CONVENT CHAPEL</td>\n",
       "      <td>53.348477</td>\n",
       "      <td>-6.271733</td>\n",
       "      <td>1</td>\n",
       "    </tr>\n",
       "    <tr>\n",
       "      <th>339</th>\n",
       "      <td>T.L.C. HOUSE</td>\n",
       "      <td>53.375604</td>\n",
       "      <td>-6.305607</td>\n",
       "      <td>2</td>\n",
       "    </tr>\n",
       "    <tr>\n",
       "      <th>340</th>\n",
       "      <td>COMMUNITY HOUSE</td>\n",
       "      <td>53.372306</td>\n",
       "      <td>-6.234921</td>\n",
       "      <td>1</td>\n",
       "    </tr>\n",
       "    <tr>\n",
       "      <th>341</th>\n",
       "      <td>CHURCH OF THE THREE PATRONS</td>\n",
       "      <td>53.317176</td>\n",
       "      <td>-6.271301</td>\n",
       "      <td>1</td>\n",
       "    </tr>\n",
       "    <tr>\n",
       "      <th>342</th>\n",
       "      <td>SAINT FINIAN'S CHURCH</td>\n",
       "      <td>53.332247</td>\n",
       "      <td>-6.256622</td>\n",
       "      <td>1</td>\n",
       "    </tr>\n",
       "    <tr>\n",
       "      <th>343</th>\n",
       "      <td>THE PASTORAL CENTRE</td>\n",
       "      <td>53.376089</td>\n",
       "      <td>-6.318872</td>\n",
       "      <td>1</td>\n",
       "    </tr>\n",
       "    <tr>\n",
       "      <th>344</th>\n",
       "      <td>CHURCH OF IRELAND YOUTH COUNCIL</td>\n",
       "      <td>53.358056</td>\n",
       "      <td>-6.273737</td>\n",
       "      <td>1</td>\n",
       "    </tr>\n",
       "    <tr>\n",
       "      <th>345</th>\n",
       "      <td>DUBLIN MOSQUE</td>\n",
       "      <td>53.330949</td>\n",
       "      <td>-6.281853</td>\n",
       "      <td>1</td>\n",
       "    </tr>\n",
       "    <tr>\n",
       "      <th>346</th>\n",
       "      <td>RIALTO PARISH CHURCH</td>\n",
       "      <td>53.335917</td>\n",
       "      <td>-6.296041</td>\n",
       "      <td>1</td>\n",
       "    </tr>\n",
       "    <tr>\n",
       "      <th>347</th>\n",
       "      <td>CHURCH OF THE RESURECTION</td>\n",
       "      <td>53.370362</td>\n",
       "      <td>-6.277913</td>\n",
       "      <td>1</td>\n",
       "    </tr>\n",
       "    <tr>\n",
       "      <th>348</th>\n",
       "      <td>EVANGELICAL PENTECOSTAL FRATERNITY IN IRELAND</td>\n",
       "      <td>53.354403</td>\n",
       "      <td>-6.239920</td>\n",
       "      <td>10</td>\n",
       "    </tr>\n",
       "    <tr>\n",
       "      <th>349</th>\n",
       "      <td>FRANSICIAN FRIARY</td>\n",
       "      <td>53.344818</td>\n",
       "      <td>-6.272992</td>\n",
       "      <td>2</td>\n",
       "    </tr>\n",
       "    <tr>\n",
       "      <th>350</th>\n",
       "      <td>FRANSICAN MISSIONS OFFICE</td>\n",
       "      <td>53.344818</td>\n",
       "      <td>-6.272992</td>\n",
       "      <td>2</td>\n",
       "    </tr>\n",
       "    <tr>\n",
       "      <th>351</th>\n",
       "      <td>SAINT AUDOEN'S</td>\n",
       "      <td>53.343800</td>\n",
       "      <td>-6.273546</td>\n",
       "      <td>1</td>\n",
       "    </tr>\n",
       "    <tr>\n",
       "      <th>352</th>\n",
       "      <td>CHRIST THE KING PARISH HALL</td>\n",
       "      <td>53.363115</td>\n",
       "      <td>-6.285934</td>\n",
       "      <td>1</td>\n",
       "    </tr>\n",
       "    <tr>\n",
       "      <th>353</th>\n",
       "      <td>SECULAR FRANCISCAN ORDER</td>\n",
       "      <td>53.325961</td>\n",
       "      <td>-6.277907</td>\n",
       "      <td>1</td>\n",
       "    </tr>\n",
       "    <tr>\n",
       "      <th>354</th>\n",
       "      <td>SAINT MARYS PARISH CENTRE</td>\n",
       "      <td>53.334516</td>\n",
       "      <td>-6.241660</td>\n",
       "      <td>1</td>\n",
       "    </tr>\n",
       "    <tr>\n",
       "      <th>355</th>\n",
       "      <td>ALL SAINTS</td>\n",
       "      <td>53.358200</td>\n",
       "      <td>-6.273866</td>\n",
       "      <td>1</td>\n",
       "    </tr>\n",
       "    <tr>\n",
       "      <th>356</th>\n",
       "      <td>GOD MINISTRIES</td>\n",
       "      <td>53.372547</td>\n",
       "      <td>-6.294702</td>\n",
       "      <td>5</td>\n",
       "    </tr>\n",
       "    <tr>\n",
       "      <th>357</th>\n",
       "      <td>CELESTIAL CHURCH</td>\n",
       "      <td>53.372547</td>\n",
       "      <td>-6.294702</td>\n",
       "      <td>5</td>\n",
       "    </tr>\n",
       "    <tr>\n",
       "      <th>358</th>\n",
       "      <td>CHURCH OF THE MOST PRECIOUS BLOOD</td>\n",
       "      <td>53.367841</td>\n",
       "      <td>-6.295892</td>\n",
       "      <td>1</td>\n",
       "    </tr>\n",
       "    <tr>\n",
       "      <th>359</th>\n",
       "      <td>MATHEW BYRNE HALL</td>\n",
       "      <td>53.332812</td>\n",
       "      <td>-6.266705</td>\n",
       "      <td>4</td>\n",
       "    </tr>\n",
       "    <tr>\n",
       "      <th>360</th>\n",
       "      <td>MOUNTAIN OF FIRE AND MIRACLES MINISTRIES</td>\n",
       "      <td>53.375729</td>\n",
       "      <td>-6.306214</td>\n",
       "      <td>2</td>\n",
       "    </tr>\n",
       "    <tr>\n",
       "      <th>361</th>\n",
       "      <td>HOLY FAITH SISTERS</td>\n",
       "      <td>53.375731</td>\n",
       "      <td>-6.255130</td>\n",
       "      <td>1</td>\n",
       "    </tr>\n",
       "    <tr>\n",
       "      <th>362</th>\n",
       "      <td>DUBLIN BUDDIST CENTRE</td>\n",
       "      <td>53.352034</td>\n",
       "      <td>-6.253266</td>\n",
       "      <td>3</td>\n",
       "    </tr>\n",
       "    <tr>\n",
       "      <th>363</th>\n",
       "      <td>SAINT LAURENCE O'TOOLE CHURCH</td>\n",
       "      <td>53.350914</td>\n",
       "      <td>-6.242138</td>\n",
       "      <td>1</td>\n",
       "    </tr>\n",
       "    <tr>\n",
       "      <th>364</th>\n",
       "      <td>BLESSED MARGARET BALL CHURCH</td>\n",
       "      <td>53.397454</td>\n",
       "      <td>-6.241192</td>\n",
       "      <td>1</td>\n",
       "    </tr>\n",
       "    <tr>\n",
       "      <th>365</th>\n",
       "      <td>PARTNERS IN FAITH</td>\n",
       "      <td>53.337537</td>\n",
       "      <td>-6.281965</td>\n",
       "      <td>3</td>\n",
       "    </tr>\n",
       "    <tr>\n",
       "      <th>366</th>\n",
       "      <td>MARGARET ALYWARD CENTRE FOR FAITH AND DIAOGUE</td>\n",
       "      <td>53.375285</td>\n",
       "      <td>-6.272023</td>\n",
       "      <td>1</td>\n",
       "    </tr>\n",
       "    <tr>\n",
       "      <th>367</th>\n",
       "      <td>CHRISTIAN BLIND MISSION IRELAND</td>\n",
       "      <td>53.352150</td>\n",
       "      <td>-6.265030</td>\n",
       "      <td>1</td>\n",
       "    </tr>\n",
       "  </tbody>\n",
       "</table>\n",
       "<p>368 rows × 4 columns</p>\n",
       "</div>"
      ],
      "text/plain": [
       "                                              NAME   LATITUDE  LONGITUDE  \\\n",
       "0                       CHRISTIAN LIFE COMMUNITIES  53.333485  -6.254570   \n",
       "1                      JESUIT COMMUNICATION CENTRE  53.333485  -6.254570   \n",
       "2                                 JESUIT COMMUNITY  53.333485  -6.254570   \n",
       "3                  ST. PATRICKS MISSIONARY SOCIETY  53.328424  -6.252335   \n",
       "4                           NATIONAL BAHÁ'Í CENTRE  53.330353  -6.246827   \n",
       "5              THE THEOSOPHICAL SOCIETY OF IRELAND  53.332223  -6.241064   \n",
       "6                         BLESSED SACRAMENT CHAPEL  53.347217  -6.261339   \n",
       "7                            CHURCH OF SCIENTOLOGY  53.341071  -6.250084   \n",
       "8                                      REGAL HOUSE  53.342293  -6.227146   \n",
       "9                           IMMANUEL CHURCH DUBLIN  53.347472  -6.260490   \n",
       "10                                        LUTHIERS  53.349976  -6.269190   \n",
       "11                                       THE CRIPT  53.330529  -6.264173   \n",
       "12                          LEGION OF MARY CONVENT  53.340559  -6.274515   \n",
       "13                             PAX CHRISTI IRELAND  53.327814  -6.264347   \n",
       "14                        DUBLIN CHRISTIAN MISSION  53.346019  -6.272173   \n",
       "15                          KAGYU BUDDHISM IRELAND  53.342505  -6.311563   \n",
       "16                                 BENIDICTA HOUSE  53.338661  -6.301922   \n",
       "17                 PARISH OF THE TRAVELLING PEOPLE  53.360663  -6.277936   \n",
       "18                                VIATORES CHRISTI  53.360692  -6.278157   \n",
       "19                                      PRESENTATA  53.359158  -6.281625   \n",
       "20                                  ARRUPE SOCIETY  53.358729  -6.259452   \n",
       "21             JESUIT CENTRE FOR FAITH AND JUSTICE  53.358729  -6.259452   \n",
       "22                                 PASTORAL CENTRE  53.343075  -6.349495   \n",
       "23                      DIVINE WORLD MISSIONARIE'S  53.356431  -6.291914   \n",
       "24               HOLY TRINITY CHURCH PARISH OFFICE  53.396343  -6.164091   \n",
       "25                            SAINT THERESE'S CLUB  53.356857  -6.256105   \n",
       "26                               STRATFORD COLLEGE  53.309701  -6.274318   \n",
       "27                             THE CHAPLINS OFFICE  53.317033  -6.255502   \n",
       "28                        DIVINE WORD MISSIONARIES  53.332660  -6.243177   \n",
       "29         FRANCISCAN MISSIONARY SISTERS OF AFRICA  53.329237  -6.213861   \n",
       "..                                             ...        ...        ...   \n",
       "338                    PRESENTATION CONVENT CHAPEL  53.348477  -6.271733   \n",
       "339                                   T.L.C. HOUSE  53.375604  -6.305607   \n",
       "340                                COMMUNITY HOUSE  53.372306  -6.234921   \n",
       "341                    CHURCH OF THE THREE PATRONS  53.317176  -6.271301   \n",
       "342                          SAINT FINIAN'S CHURCH  53.332247  -6.256622   \n",
       "343                            THE PASTORAL CENTRE  53.376089  -6.318872   \n",
       "344                CHURCH OF IRELAND YOUTH COUNCIL  53.358056  -6.273737   \n",
       "345                                  DUBLIN MOSQUE  53.330949  -6.281853   \n",
       "346                           RIALTO PARISH CHURCH  53.335917  -6.296041   \n",
       "347                      CHURCH OF THE RESURECTION  53.370362  -6.277913   \n",
       "348  EVANGELICAL PENTECOSTAL FRATERNITY IN IRELAND  53.354403  -6.239920   \n",
       "349                              FRANSICIAN FRIARY  53.344818  -6.272992   \n",
       "350                      FRANSICAN MISSIONS OFFICE  53.344818  -6.272992   \n",
       "351                                 SAINT AUDOEN'S  53.343800  -6.273546   \n",
       "352                    CHRIST THE KING PARISH HALL  53.363115  -6.285934   \n",
       "353                       SECULAR FRANCISCAN ORDER  53.325961  -6.277907   \n",
       "354                      SAINT MARYS PARISH CENTRE  53.334516  -6.241660   \n",
       "355                                     ALL SAINTS  53.358200  -6.273866   \n",
       "356                                 GOD MINISTRIES  53.372547  -6.294702   \n",
       "357                               CELESTIAL CHURCH  53.372547  -6.294702   \n",
       "358              CHURCH OF THE MOST PRECIOUS BLOOD  53.367841  -6.295892   \n",
       "359                              MATHEW BYRNE HALL  53.332812  -6.266705   \n",
       "360       MOUNTAIN OF FIRE AND MIRACLES MINISTRIES  53.375729  -6.306214   \n",
       "361                             HOLY FAITH SISTERS  53.375731  -6.255130   \n",
       "362                          DUBLIN BUDDIST CENTRE  53.352034  -6.253266   \n",
       "363                  SAINT LAURENCE O'TOOLE CHURCH  53.350914  -6.242138   \n",
       "364                   BLESSED MARGARET BALL CHURCH  53.397454  -6.241192   \n",
       "365                              PARTNERS IN FAITH  53.337537  -6.281965   \n",
       "366  MARGARET ALYWARD CENTRE FOR FAITH AND DIAOGUE  53.375285  -6.272023   \n",
       "367                CHRISTIAN BLIND MISSION IRELAND  53.352150  -6.265030   \n",
       "\n",
       "     COMMERCIAL_DELIVERY_POINTS  \n",
       "0                             4  \n",
       "1                             4  \n",
       "2                             4  \n",
       "3                             1  \n",
       "4                             1  \n",
       "5                             3  \n",
       "6                             1  \n",
       "7                             1  \n",
       "8                             1  \n",
       "9                             2  \n",
       "10                            5  \n",
       "11                            3  \n",
       "12                            1  \n",
       "13                            1  \n",
       "14                            1  \n",
       "15                            1  \n",
       "16                            1  \n",
       "17                            2  \n",
       "18                            1  \n",
       "19                            1  \n",
       "20                            4  \n",
       "21                            4  \n",
       "22                            1  \n",
       "23                            1  \n",
       "24                            1  \n",
       "25                            1  \n",
       "26                            3  \n",
       "27                            2  \n",
       "28                            1  \n",
       "29                            1  \n",
       "..                          ...  \n",
       "338                           1  \n",
       "339                           2  \n",
       "340                           1  \n",
       "341                           1  \n",
       "342                           1  \n",
       "343                           1  \n",
       "344                           1  \n",
       "345                           1  \n",
       "346                           1  \n",
       "347                           1  \n",
       "348                          10  \n",
       "349                           2  \n",
       "350                           2  \n",
       "351                           1  \n",
       "352                           1  \n",
       "353                           1  \n",
       "354                           1  \n",
       "355                           1  \n",
       "356                           5  \n",
       "357                           5  \n",
       "358                           1  \n",
       "359                           4  \n",
       "360                           2  \n",
       "361                           1  \n",
       "362                           3  \n",
       "363                           1  \n",
       "364                           1  \n",
       "365                           3  \n",
       "366                           1  \n",
       "367                           1  \n",
       "\n",
       "[368 rows x 4 columns]"
      ]
     },
     "execution_count": 3,
     "metadata": {},
     "output_type": "execute_result"
    }
   ],
   "source": [
    "# capacity? How? Bld area? No.of Reviews? No.of delivery points?  \n",
    "\n",
    "df_church[['NAME','LATITUDE','LONGITUDE','COMMERCIAL_DELIVERY_POINTS']]"
   ]
  },
  {
   "cell_type": "code",
   "execution_count": 5,
   "metadata": {},
   "outputs": [],
   "source": [
    "df_c = df_church[['NAME','LATITUDE','LONGITUDE','COMMERCIAL_DELIVERY_POINTS']]"
   ]
  },
  {
   "cell_type": "code",
   "execution_count": null,
   "metadata": {},
   "outputs": [],
   "source": [
    "#df_c['Organisation_Name'] = df_c.Organisation_Name.fillna(\"religious_grp\")"
   ]
  },
  {
   "cell_type": "code",
   "execution_count": 6,
   "metadata": {},
   "outputs": [
    {
     "name": "stderr",
     "output_type": "stream",
     "text": [
      "c:\\users\\minkun\\appdata\\local\\programs\\python\\python37\\lib\\site-packages\\ipykernel_launcher.py:1: SettingWithCopyWarning: \n",
      "A value is trying to be set on a copy of a slice from a DataFrame\n",
      "\n",
      "See the caveats in the documentation: http://pandas.pydata.org/pandas-docs/stable/indexing.html#indexing-view-versus-copy\n",
      "  \"\"\"Entry point for launching an IPython kernel.\n"
     ]
    }
   ],
   "source": [
    "#df_c.dropna(axis=0, inplace=True)"
   ]
  },
  {
   "cell_type": "code",
   "execution_count": 6,
   "metadata": {},
   "outputs": [
    {
     "name": "stderr",
     "output_type": "stream",
     "text": [
      "c:\\users\\minkun\\appdata\\local\\programs\\python\\python37\\lib\\site-packages\\ipykernel_launcher.py:1: SettingWithCopyWarning: \n",
      "A value is trying to be set on a copy of a slice from a DataFrame.\n",
      "Try using .loc[row_indexer,col_indexer] = value instead\n",
      "\n",
      "See the caveats in the documentation: http://pandas.pydata.org/pandas-docs/stable/indexing.html#indexing-view-versus-copy\n",
      "  \"\"\"Entry point for launching an IPython kernel.\n"
     ]
    }
   ],
   "source": [
    "df_c['LABEL'] = 'Regilious_Activities'"
   ]
  },
  {
   "cell_type": "code",
   "execution_count": 7,
   "metadata": {},
   "outputs": [
    {
     "data": {
      "text/html": [
       "<div>\n",
       "<style scoped>\n",
       "    .dataframe tbody tr th:only-of-type {\n",
       "        vertical-align: middle;\n",
       "    }\n",
       "\n",
       "    .dataframe tbody tr th {\n",
       "        vertical-align: top;\n",
       "    }\n",
       "\n",
       "    .dataframe thead th {\n",
       "        text-align: right;\n",
       "    }\n",
       "</style>\n",
       "<table border=\"1\" class=\"dataframe\">\n",
       "  <thead>\n",
       "    <tr style=\"text-align: right;\">\n",
       "      <th></th>\n",
       "      <th>NAME</th>\n",
       "      <th>LATITUDE</th>\n",
       "      <th>LONGITUDE</th>\n",
       "      <th>COMMERCIAL_DELIVERY_POINTS</th>\n",
       "      <th>LABEL</th>\n",
       "    </tr>\n",
       "  </thead>\n",
       "  <tbody>\n",
       "    <tr>\n",
       "      <th>365</th>\n",
       "      <td>PARTNERS IN FAITH</td>\n",
       "      <td>53.337537</td>\n",
       "      <td>-6.281965</td>\n",
       "      <td>3</td>\n",
       "      <td>Regilious_Activities</td>\n",
       "    </tr>\n",
       "    <tr>\n",
       "      <th>366</th>\n",
       "      <td>MARGARET ALYWARD CENTRE FOR FAITH AND DIAOGUE</td>\n",
       "      <td>53.375285</td>\n",
       "      <td>-6.272023</td>\n",
       "      <td>1</td>\n",
       "      <td>Regilious_Activities</td>\n",
       "    </tr>\n",
       "    <tr>\n",
       "      <th>367</th>\n",
       "      <td>CHRISTIAN BLIND MISSION IRELAND</td>\n",
       "      <td>53.352150</td>\n",
       "      <td>-6.265030</td>\n",
       "      <td>1</td>\n",
       "      <td>Regilious_Activities</td>\n",
       "    </tr>\n",
       "  </tbody>\n",
       "</table>\n",
       "</div>"
      ],
      "text/plain": [
       "                                              NAME   LATITUDE  LONGITUDE  \\\n",
       "365                              PARTNERS IN FAITH  53.337537  -6.281965   \n",
       "366  MARGARET ALYWARD CENTRE FOR FAITH AND DIAOGUE  53.375285  -6.272023   \n",
       "367                CHRISTIAN BLIND MISSION IRELAND  53.352150  -6.265030   \n",
       "\n",
       "     COMMERCIAL_DELIVERY_POINTS                 LABEL  \n",
       "365                           3  Regilious_Activities  \n",
       "366                           1  Regilious_Activities  \n",
       "367                           1  Regilious_Activities  "
      ]
     },
     "execution_count": 7,
     "metadata": {},
     "output_type": "execute_result"
    }
   ],
   "source": [
    "df_c.tail(3)"
   ]
  },
  {
   "cell_type": "code",
   "execution_count": 8,
   "metadata": {},
   "outputs": [],
   "source": [
    "df_c.to_csv('./Pre-processing/George_DCC_code/Checkpoints from NACE/Religious_Activities.csv', index=False)"
   ]
  },
  {
   "cell_type": "code",
   "execution_count": null,
   "metadata": {},
   "outputs": [],
   "source": []
  },
  {
   "cell_type": "code",
   "execution_count": 9,
   "metadata": {},
   "outputs": [],
   "source": [
    "# 2. Primary_Schools\n",
    "\n",
    "df_p_sch = pd.read_excel('./Pre-processing/George_DCC_code/Original Data/NACECodes for social_E2.xlsx', sheetname='Primary_Schools')"
   ]
  },
  {
   "cell_type": "code",
   "execution_count": 10,
   "metadata": {},
   "outputs": [],
   "source": [
    "df_Psch = df_p_sch[['NAME','LATITUDE','LONGITUDE','COMMERCIAL_DELIVERY_POINTS']]"
   ]
  },
  {
   "cell_type": "code",
   "execution_count": null,
   "metadata": {},
   "outputs": [],
   "source": [
    "#df_Psch['Organisation_Name'] = df_Psch.Organisation_Name.fillna(\"first school\")"
   ]
  },
  {
   "cell_type": "code",
   "execution_count": null,
   "metadata": {},
   "outputs": [],
   "source": [
    "#df_Psch.dropna(axis=0, inplace=True)"
   ]
  },
  {
   "cell_type": "code",
   "execution_count": 11,
   "metadata": {},
   "outputs": [
    {
     "name": "stderr",
     "output_type": "stream",
     "text": [
      "c:\\users\\minkun\\appdata\\local\\programs\\python\\python37\\lib\\site-packages\\ipykernel_launcher.py:1: SettingWithCopyWarning: \n",
      "A value is trying to be set on a copy of a slice from a DataFrame.\n",
      "Try using .loc[row_indexer,col_indexer] = value instead\n",
      "\n",
      "See the caveats in the documentation: http://pandas.pydata.org/pandas-docs/stable/indexing.html#indexing-view-versus-copy\n",
      "  \"\"\"Entry point for launching an IPython kernel.\n"
     ]
    }
   ],
   "source": [
    "df_Psch['LABEL'] = 'Primary_Schools'"
   ]
  },
  {
   "cell_type": "code",
   "execution_count": 12,
   "metadata": {},
   "outputs": [
    {
     "name": "stdout",
     "output_type": "stream",
     "text": [
      "<class 'pandas.core.frame.DataFrame'>\n",
      "RangeIndex: 216 entries, 0 to 215\n",
      "Data columns (total 5 columns):\n",
      "NAME                          216 non-null object\n",
      "LATITUDE                      216 non-null float64\n",
      "LONGITUDE                     216 non-null float64\n",
      "COMMERCIAL_DELIVERY_POINTS    216 non-null int64\n",
      "LABEL                         216 non-null object\n",
      "dtypes: float64(2), int64(1), object(2)\n",
      "memory usage: 8.5+ KB\n"
     ]
    }
   ],
   "source": [
    "df_Psch.info()"
   ]
  },
  {
   "cell_type": "code",
   "execution_count": 13,
   "metadata": {},
   "outputs": [
    {
     "data": {
      "text/html": [
       "<div>\n",
       "<style scoped>\n",
       "    .dataframe tbody tr th:only-of-type {\n",
       "        vertical-align: middle;\n",
       "    }\n",
       "\n",
       "    .dataframe tbody tr th {\n",
       "        vertical-align: top;\n",
       "    }\n",
       "\n",
       "    .dataframe thead th {\n",
       "        text-align: right;\n",
       "    }\n",
       "</style>\n",
       "<table border=\"1\" class=\"dataframe\">\n",
       "  <thead>\n",
       "    <tr style=\"text-align: right;\">\n",
       "      <th></th>\n",
       "      <th>NAME</th>\n",
       "      <th>LATITUDE</th>\n",
       "      <th>LONGITUDE</th>\n",
       "      <th>COMMERCIAL_DELIVERY_POINTS</th>\n",
       "      <th>LABEL</th>\n",
       "    </tr>\n",
       "  </thead>\n",
       "  <tbody>\n",
       "    <tr>\n",
       "      <th>213</th>\n",
       "      <td>PRIMARY SCHOOL</td>\n",
       "      <td>53.319306</td>\n",
       "      <td>-6.217416</td>\n",
       "      <td>1</td>\n",
       "      <td>Primary_Schools</td>\n",
       "    </tr>\n",
       "    <tr>\n",
       "      <th>214</th>\n",
       "      <td>GRIFFITH BARRACKS MULTI-DENOMINATIONAL SCHOOL</td>\n",
       "      <td>53.327385</td>\n",
       "      <td>-6.295449</td>\n",
       "      <td>1</td>\n",
       "      <td>Primary_Schools</td>\n",
       "    </tr>\n",
       "    <tr>\n",
       "      <th>215</th>\n",
       "      <td>GLASNEVIN EDUCATE TOGETHER NATIONAL SCHOOL</td>\n",
       "      <td>53.378726</td>\n",
       "      <td>-6.269379</td>\n",
       "      <td>1</td>\n",
       "      <td>Primary_Schools</td>\n",
       "    </tr>\n",
       "  </tbody>\n",
       "</table>\n",
       "</div>"
      ],
      "text/plain": [
       "                                              NAME   LATITUDE  LONGITUDE  \\\n",
       "213                                 PRIMARY SCHOOL  53.319306  -6.217416   \n",
       "214  GRIFFITH BARRACKS MULTI-DENOMINATIONAL SCHOOL  53.327385  -6.295449   \n",
       "215     GLASNEVIN EDUCATE TOGETHER NATIONAL SCHOOL  53.378726  -6.269379   \n",
       "\n",
       "     COMMERCIAL_DELIVERY_POINTS            LABEL  \n",
       "213                           1  Primary_Schools  \n",
       "214                           1  Primary_Schools  \n",
       "215                           1  Primary_Schools  "
      ]
     },
     "execution_count": 13,
     "metadata": {},
     "output_type": "execute_result"
    }
   ],
   "source": [
    "df_Psch.tail(3)"
   ]
  },
  {
   "cell_type": "code",
   "execution_count": 14,
   "metadata": {},
   "outputs": [],
   "source": [
    "df_Psch.to_csv('./Pre-processing/George_DCC_code/Checkpoints from NACE/Primary_Schools.csv', index=False)"
   ]
  },
  {
   "cell_type": "code",
   "execution_count": null,
   "metadata": {},
   "outputs": [],
   "source": []
  },
  {
   "cell_type": "code",
   "execution_count": 15,
   "metadata": {},
   "outputs": [],
   "source": [
    "# 3. Secondary_Schools_P.85.30\n",
    "\n",
    "df_2nd_sch = pd.read_excel('./Pre-processing/George_DCC_code/Original Data/NACECodes for social_E2.xlsx', sheetname='Secondary_Schools_P.85.30')"
   ]
  },
  {
   "cell_type": "code",
   "execution_count": 16,
   "metadata": {},
   "outputs": [],
   "source": [
    "df_2sch = df_2nd_sch[['NAME','LATITUDE','LONGITUDE','COMMERCIAL_DELIVERY_POINTS']]"
   ]
  },
  {
   "cell_type": "code",
   "execution_count": null,
   "metadata": {},
   "outputs": [],
   "source": [
    "#df_2sch['Organisation_Name'] = df_2sch.Organisation_Name.fillna(\"second school\")"
   ]
  },
  {
   "cell_type": "code",
   "execution_count": null,
   "metadata": {},
   "outputs": [],
   "source": [
    "#df_2sch['NAME'] = df_2sch.NAME.fillna(\"secondary school\")"
   ]
  },
  {
   "cell_type": "code",
   "execution_count": null,
   "metadata": {},
   "outputs": [],
   "source": [
    "#df_2sch.dropna(axis=0, inplace=True)"
   ]
  },
  {
   "cell_type": "code",
   "execution_count": 17,
   "metadata": {},
   "outputs": [
    {
     "name": "stderr",
     "output_type": "stream",
     "text": [
      "c:\\users\\minkun\\appdata\\local\\programs\\python\\python37\\lib\\site-packages\\ipykernel_launcher.py:1: SettingWithCopyWarning: \n",
      "A value is trying to be set on a copy of a slice from a DataFrame.\n",
      "Try using .loc[row_indexer,col_indexer] = value instead\n",
      "\n",
      "See the caveats in the documentation: http://pandas.pydata.org/pandas-docs/stable/indexing.html#indexing-view-versus-copy\n",
      "  \"\"\"Entry point for launching an IPython kernel.\n"
     ]
    }
   ],
   "source": [
    "df_2sch['LABEL']='Secondary_Schools'"
   ]
  },
  {
   "cell_type": "code",
   "execution_count": 18,
   "metadata": {},
   "outputs": [
    {
     "name": "stdout",
     "output_type": "stream",
     "text": [
      "<class 'pandas.core.frame.DataFrame'>\n",
      "RangeIndex: 65 entries, 0 to 64\n",
      "Data columns (total 5 columns):\n",
      "NAME                          65 non-null object\n",
      "LATITUDE                      65 non-null float64\n",
      "LONGITUDE                     65 non-null float64\n",
      "COMMERCIAL_DELIVERY_POINTS    65 non-null int64\n",
      "LABEL                         65 non-null object\n",
      "dtypes: float64(2), int64(1), object(2)\n",
      "memory usage: 2.6+ KB\n"
     ]
    }
   ],
   "source": [
    "df_2sch.info()"
   ]
  },
  {
   "cell_type": "code",
   "execution_count": 19,
   "metadata": {},
   "outputs": [
    {
     "data": {
      "text/html": [
       "<div>\n",
       "<style scoped>\n",
       "    .dataframe tbody tr th:only-of-type {\n",
       "        vertical-align: middle;\n",
       "    }\n",
       "\n",
       "    .dataframe tbody tr th {\n",
       "        vertical-align: top;\n",
       "    }\n",
       "\n",
       "    .dataframe thead th {\n",
       "        text-align: right;\n",
       "    }\n",
       "</style>\n",
       "<table border=\"1\" class=\"dataframe\">\n",
       "  <thead>\n",
       "    <tr style=\"text-align: right;\">\n",
       "      <th></th>\n",
       "      <th>NAME</th>\n",
       "      <th>LATITUDE</th>\n",
       "      <th>LONGITUDE</th>\n",
       "      <th>COMMERCIAL_DELIVERY_POINTS</th>\n",
       "      <th>LABEL</th>\n",
       "    </tr>\n",
       "  </thead>\n",
       "  <tbody>\n",
       "    <tr>\n",
       "      <th>62</th>\n",
       "      <td>SYNGE STREET CBS</td>\n",
       "      <td>53.333491</td>\n",
       "      <td>-6.268224</td>\n",
       "      <td>1</td>\n",
       "      <td>Secondary_Schools</td>\n",
       "    </tr>\n",
       "    <tr>\n",
       "      <th>63</th>\n",
       "      <td>SAINT MARY'S SECONDARY SCHOOL</td>\n",
       "      <td>53.375897</td>\n",
       "      <td>-6.272599</td>\n",
       "      <td>1</td>\n",
       "      <td>Secondary_Schools</td>\n",
       "    </tr>\n",
       "    <tr>\n",
       "      <th>64</th>\n",
       "      <td>ARD SCOIL RÍS SECONDARY SCHOOL</td>\n",
       "      <td>53.369235</td>\n",
       "      <td>-6.228075</td>\n",
       "      <td>1</td>\n",
       "      <td>Secondary_Schools</td>\n",
       "    </tr>\n",
       "  </tbody>\n",
       "</table>\n",
       "</div>"
      ],
      "text/plain": [
       "                              NAME   LATITUDE  LONGITUDE  \\\n",
       "62                SYNGE STREET CBS  53.333491  -6.268224   \n",
       "63   SAINT MARY'S SECONDARY SCHOOL  53.375897  -6.272599   \n",
       "64  ARD SCOIL RÍS SECONDARY SCHOOL  53.369235  -6.228075   \n",
       "\n",
       "    COMMERCIAL_DELIVERY_POINTS              LABEL  \n",
       "62                           1  Secondary_Schools  \n",
       "63                           1  Secondary_Schools  \n",
       "64                           1  Secondary_Schools  "
      ]
     },
     "execution_count": 19,
     "metadata": {},
     "output_type": "execute_result"
    }
   ],
   "source": [
    "df_2sch.tail(3)"
   ]
  },
  {
   "cell_type": "code",
   "execution_count": 20,
   "metadata": {},
   "outputs": [],
   "source": [
    "df_2sch.to_csv('./Pre-processing/George_DCC_code/Checkpoints from NACE/Secondary_Schools.csv', index=False)"
   ]
  },
  {
   "cell_type": "code",
   "execution_count": null,
   "metadata": {},
   "outputs": [],
   "source": []
  },
  {
   "cell_type": "code",
   "execution_count": 21,
   "metadata": {},
   "outputs": [],
   "source": [
    "#4. Education_P.85.42 \n",
    "\n",
    "df_univ = pd.read_excel('./Pre-processing/George_DCC_code/Original Data/NACECodes for social_E2.xlsx', sheetname='Education_P.85.42')"
   ]
  },
  {
   "cell_type": "code",
   "execution_count": 22,
   "metadata": {},
   "outputs": [],
   "source": [
    "df_univ = df_univ[['NAME','LATITUDE','LONGITUDE','COMMERCIAL_DELIVERY_POINTS']]"
   ]
  },
  {
   "cell_type": "code",
   "execution_count": null,
   "metadata": {},
   "outputs": [],
   "source": [
    "#df_univ['Organisation_Name'] = df_univ.Organisation_Name.fillna(\"university\")"
   ]
  },
  {
   "cell_type": "code",
   "execution_count": null,
   "metadata": {},
   "outputs": [],
   "source": [
    "#df_univ['NAME'] = df_univ.NAME.fillna(\"INSTITUTION\")"
   ]
  },
  {
   "cell_type": "code",
   "execution_count": 23,
   "metadata": {},
   "outputs": [],
   "source": [
    "df_univ['LABEL']='Tertiary_Schools'"
   ]
  },
  {
   "cell_type": "code",
   "execution_count": 24,
   "metadata": {},
   "outputs": [
    {
     "name": "stdout",
     "output_type": "stream",
     "text": [
      "<class 'pandas.core.frame.DataFrame'>\n",
      "RangeIndex: 49 entries, 0 to 48\n",
      "Data columns (total 5 columns):\n",
      "NAME                          49 non-null object\n",
      "LATITUDE                      49 non-null float64\n",
      "LONGITUDE                     49 non-null float64\n",
      "COMMERCIAL_DELIVERY_POINTS    49 non-null int64\n",
      "LABEL                         49 non-null object\n",
      "dtypes: float64(2), int64(1), object(2)\n",
      "memory usage: 2.0+ KB\n"
     ]
    }
   ],
   "source": [
    "df_univ.info()"
   ]
  },
  {
   "cell_type": "code",
   "execution_count": 25,
   "metadata": {},
   "outputs": [
    {
     "data": {
      "text/html": [
       "<div>\n",
       "<style scoped>\n",
       "    .dataframe tbody tr th:only-of-type {\n",
       "        vertical-align: middle;\n",
       "    }\n",
       "\n",
       "    .dataframe tbody tr th {\n",
       "        vertical-align: top;\n",
       "    }\n",
       "\n",
       "    .dataframe thead th {\n",
       "        text-align: right;\n",
       "    }\n",
       "</style>\n",
       "<table border=\"1\" class=\"dataframe\">\n",
       "  <thead>\n",
       "    <tr style=\"text-align: right;\">\n",
       "      <th></th>\n",
       "      <th>NAME</th>\n",
       "      <th>LATITUDE</th>\n",
       "      <th>LONGITUDE</th>\n",
       "      <th>COMMERCIAL_DELIVERY_POINTS</th>\n",
       "      <th>LABEL</th>\n",
       "    </tr>\n",
       "  </thead>\n",
       "  <tbody>\n",
       "    <tr>\n",
       "      <th>46</th>\n",
       "      <td>SOLAS THE OBLATE HALL</td>\n",
       "      <td>53.337641</td>\n",
       "      <td>-6.326415</td>\n",
       "      <td>4</td>\n",
       "      <td>Tertiary_Schools</td>\n",
       "    </tr>\n",
       "    <tr>\n",
       "      <th>47</th>\n",
       "      <td>SOLAS CASTLEFORBES HOUSE</td>\n",
       "      <td>53.348751</td>\n",
       "      <td>-6.231584</td>\n",
       "      <td>3</td>\n",
       "      <td>Tertiary_Schools</td>\n",
       "    </tr>\n",
       "    <tr>\n",
       "      <th>48</th>\n",
       "      <td>SOLAS</td>\n",
       "      <td>53.381003</td>\n",
       "      <td>-6.267001</td>\n",
       "      <td>1</td>\n",
       "      <td>Tertiary_Schools</td>\n",
       "    </tr>\n",
       "  </tbody>\n",
       "</table>\n",
       "</div>"
      ],
      "text/plain": [
       "                        NAME   LATITUDE  LONGITUDE  \\\n",
       "46     SOLAS THE OBLATE HALL  53.337641  -6.326415   \n",
       "47  SOLAS CASTLEFORBES HOUSE  53.348751  -6.231584   \n",
       "48                     SOLAS  53.381003  -6.267001   \n",
       "\n",
       "    COMMERCIAL_DELIVERY_POINTS             LABEL  \n",
       "46                           4  Tertiary_Schools  \n",
       "47                           3  Tertiary_Schools  \n",
       "48                           1  Tertiary_Schools  "
      ]
     },
     "execution_count": 25,
     "metadata": {},
     "output_type": "execute_result"
    }
   ],
   "source": [
    "df_univ.tail(3)"
   ]
  },
  {
   "cell_type": "code",
   "execution_count": 26,
   "metadata": {},
   "outputs": [],
   "source": [
    "df_univ.to_csv('./Pre-processing/George_DCC_code/Checkpoints from NACE/Education_P.csv', index=False)"
   ]
  },
  {
   "cell_type": "code",
   "execution_count": null,
   "metadata": {},
   "outputs": [],
   "source": []
  },
  {
   "cell_type": "code",
   "execution_count": 27,
   "metadata": {},
   "outputs": [],
   "source": [
    "#5. Retail_Sales_Food_BeveraG.47.11\n",
    "\n",
    "df_retail = pd.read_excel('./Pre-processing/George_DCC_code/Original Data/NACECodes for social_E2.xlsx', sheetname='Retail_Sales_Food_BeveraG.47.11')"
   ]
  },
  {
   "cell_type": "code",
   "execution_count": 28,
   "metadata": {},
   "outputs": [],
   "source": [
    "df_retail = df_retail[['NAME','LATITUDE','LONGITUDE','COMMERCIAL_DELIVERY_POINTS']]"
   ]
  },
  {
   "cell_type": "code",
   "execution_count": null,
   "metadata": {},
   "outputs": [],
   "source": [
    "#df_retail['NAME'] = df_retail.NAME.fillna(\"retail\")"
   ]
  },
  {
   "cell_type": "code",
   "execution_count": 29,
   "metadata": {},
   "outputs": [],
   "source": [
    "df_retail['LABEL']='Retail'"
   ]
  },
  {
   "cell_type": "code",
   "execution_count": 30,
   "metadata": {},
   "outputs": [
    {
     "name": "stdout",
     "output_type": "stream",
     "text": [
      "<class 'pandas.core.frame.DataFrame'>\n",
      "RangeIndex: 405 entries, 0 to 404\n",
      "Data columns (total 5 columns):\n",
      "NAME                          405 non-null object\n",
      "LATITUDE                      405 non-null float64\n",
      "LONGITUDE                     405 non-null float64\n",
      "COMMERCIAL_DELIVERY_POINTS    405 non-null int64\n",
      "LABEL                         405 non-null object\n",
      "dtypes: float64(2), int64(1), object(2)\n",
      "memory usage: 15.9+ KB\n"
     ]
    }
   ],
   "source": [
    "df_retail.info()"
   ]
  },
  {
   "cell_type": "code",
   "execution_count": 31,
   "metadata": {},
   "outputs": [
    {
     "data": {
      "text/html": [
       "<div>\n",
       "<style scoped>\n",
       "    .dataframe tbody tr th:only-of-type {\n",
       "        vertical-align: middle;\n",
       "    }\n",
       "\n",
       "    .dataframe tbody tr th {\n",
       "        vertical-align: top;\n",
       "    }\n",
       "\n",
       "    .dataframe thead th {\n",
       "        text-align: right;\n",
       "    }\n",
       "</style>\n",
       "<table border=\"1\" class=\"dataframe\">\n",
       "  <thead>\n",
       "    <tr style=\"text-align: right;\">\n",
       "      <th></th>\n",
       "      <th>NAME</th>\n",
       "      <th>LATITUDE</th>\n",
       "      <th>LONGITUDE</th>\n",
       "      <th>COMMERCIAL_DELIVERY_POINTS</th>\n",
       "      <th>LABEL</th>\n",
       "    </tr>\n",
       "  </thead>\n",
       "  <tbody>\n",
       "    <tr>\n",
       "      <th>402</th>\n",
       "      <td>THE CENTRAL SHOP</td>\n",
       "      <td>53.403533</td>\n",
       "      <td>-6.171369</td>\n",
       "      <td>2</td>\n",
       "      <td>Retail</td>\n",
       "    </tr>\n",
       "    <tr>\n",
       "      <th>403</th>\n",
       "      <td>EUROSPAR</td>\n",
       "      <td>53.404940</td>\n",
       "      <td>-6.178754</td>\n",
       "      <td>2</td>\n",
       "      <td>Retail</td>\n",
       "    </tr>\n",
       "    <tr>\n",
       "      <th>404</th>\n",
       "      <td>SPAR</td>\n",
       "      <td>53.331226</td>\n",
       "      <td>-6.370969</td>\n",
       "      <td>10</td>\n",
       "      <td>Retail</td>\n",
       "    </tr>\n",
       "  </tbody>\n",
       "</table>\n",
       "</div>"
      ],
      "text/plain": [
       "                 NAME   LATITUDE  LONGITUDE  COMMERCIAL_DELIVERY_POINTS  \\\n",
       "402  THE CENTRAL SHOP  53.403533  -6.171369                           2   \n",
       "403          EUROSPAR  53.404940  -6.178754                           2   \n",
       "404              SPAR  53.331226  -6.370969                          10   \n",
       "\n",
       "      LABEL  \n",
       "402  Retail  \n",
       "403  Retail  \n",
       "404  Retail  "
      ]
     },
     "execution_count": 31,
     "metadata": {},
     "output_type": "execute_result"
    }
   ],
   "source": [
    "df_retail.tail(3)"
   ]
  },
  {
   "cell_type": "code",
   "execution_count": 32,
   "metadata": {},
   "outputs": [],
   "source": [
    "df_retail.to_csv('./Pre-processing/George_DCC_code/Checkpoints from NACE/Retail_Sales_Food.csv', index=False)"
   ]
  },
  {
   "cell_type": "code",
   "execution_count": null,
   "metadata": {},
   "outputs": [],
   "source": []
  },
  {
   "cell_type": "code",
   "execution_count": 33,
   "metadata": {},
   "outputs": [],
   "source": [
    "#6. Sports Clubs QR.93.12\n",
    "\n",
    "df_gym = pd.read_excel('./Pre-processing/George_DCC_code/Original Data/NACECodes for social_E2.xlsx', sheetname='Sports Clubs QR.93.12')"
   ]
  },
  {
   "cell_type": "code",
   "execution_count": 34,
   "metadata": {},
   "outputs": [],
   "source": [
    "df_gym = df_gym[['NAME','LATITUDE','LONGITUDE','COMMERCIAL_DELIVERY_POINTS']]"
   ]
  },
  {
   "cell_type": "code",
   "execution_count": null,
   "metadata": {},
   "outputs": [],
   "source": [
    "#df_gym['NAME'] = df_gym.NAME.fillna(\"gym\")"
   ]
  },
  {
   "cell_type": "code",
   "execution_count": 35,
   "metadata": {},
   "outputs": [],
   "source": [
    "df_gym['LABEL'] = 'Sports Clubs'"
   ]
  },
  {
   "cell_type": "code",
   "execution_count": 36,
   "metadata": {},
   "outputs": [
    {
     "name": "stdout",
     "output_type": "stream",
     "text": [
      "<class 'pandas.core.frame.DataFrame'>\n",
      "RangeIndex: 170 entries, 0 to 169\n",
      "Data columns (total 5 columns):\n",
      "NAME                          170 non-null object\n",
      "LATITUDE                      170 non-null float64\n",
      "LONGITUDE                     170 non-null float64\n",
      "COMMERCIAL_DELIVERY_POINTS    170 non-null int64\n",
      "LABEL                         170 non-null object\n",
      "dtypes: float64(2), int64(1), object(2)\n",
      "memory usage: 6.7+ KB\n"
     ]
    }
   ],
   "source": [
    "df_gym.info()"
   ]
  },
  {
   "cell_type": "code",
   "execution_count": 37,
   "metadata": {},
   "outputs": [
    {
     "data": {
      "text/html": [
       "<div>\n",
       "<style scoped>\n",
       "    .dataframe tbody tr th:only-of-type {\n",
       "        vertical-align: middle;\n",
       "    }\n",
       "\n",
       "    .dataframe tbody tr th {\n",
       "        vertical-align: top;\n",
       "    }\n",
       "\n",
       "    .dataframe thead th {\n",
       "        text-align: right;\n",
       "    }\n",
       "</style>\n",
       "<table border=\"1\" class=\"dataframe\">\n",
       "  <thead>\n",
       "    <tr style=\"text-align: right;\">\n",
       "      <th></th>\n",
       "      <th>NAME</th>\n",
       "      <th>LATITUDE</th>\n",
       "      <th>LONGITUDE</th>\n",
       "      <th>COMMERCIAL_DELIVERY_POINTS</th>\n",
       "      <th>LABEL</th>\n",
       "    </tr>\n",
       "  </thead>\n",
       "  <tbody>\n",
       "    <tr>\n",
       "      <th>167</th>\n",
       "      <td>HOME FARM FOOTBALL CLUB</td>\n",
       "      <td>53.377243</td>\n",
       "      <td>-6.252632</td>\n",
       "      <td>1</td>\n",
       "      <td>Sports Clubs</td>\n",
       "    </tr>\n",
       "    <tr>\n",
       "      <th>168</th>\n",
       "      <td>AN GARDA SÍOCHÁNA BOAT CLUB</td>\n",
       "      <td>53.346135</td>\n",
       "      <td>-6.321738</td>\n",
       "      <td>1</td>\n",
       "      <td>Sports Clubs</td>\n",
       "    </tr>\n",
       "    <tr>\n",
       "      <th>169</th>\n",
       "      <td>AN CUMANN PARNELL C.L.G.</td>\n",
       "      <td>53.388413</td>\n",
       "      <td>-6.204967</td>\n",
       "      <td>3</td>\n",
       "      <td>Sports Clubs</td>\n",
       "    </tr>\n",
       "  </tbody>\n",
       "</table>\n",
       "</div>"
      ],
      "text/plain": [
       "                            NAME   LATITUDE  LONGITUDE  \\\n",
       "167      HOME FARM FOOTBALL CLUB  53.377243  -6.252632   \n",
       "168  AN GARDA SÍOCHÁNA BOAT CLUB  53.346135  -6.321738   \n",
       "169     AN CUMANN PARNELL C.L.G.  53.388413  -6.204967   \n",
       "\n",
       "     COMMERCIAL_DELIVERY_POINTS         LABEL  \n",
       "167                           1  Sports Clubs  \n",
       "168                           1  Sports Clubs  \n",
       "169                           3  Sports Clubs  "
      ]
     },
     "execution_count": 37,
     "metadata": {},
     "output_type": "execute_result"
    }
   ],
   "source": [
    "df_gym.tail(3)"
   ]
  },
  {
   "cell_type": "code",
   "execution_count": 38,
   "metadata": {},
   "outputs": [],
   "source": [
    "df_gym.to_csv('./Pre-processing/George_DCC_code/Checkpoints from NACE/Sports_Clubs.csv', index=False)"
   ]
  },
  {
   "cell_type": "code",
   "execution_count": null,
   "metadata": {},
   "outputs": [],
   "source": []
  },
  {
   "cell_type": "code",
   "execution_count": 39,
   "metadata": {},
   "outputs": [],
   "source": [
    "#7. Police_Justice_O.84.23 + COURT + PRISON  ()\n",
    "\n",
    "df_garda = pd.read_excel('./Pre-processing/George_DCC_code/Original Data/NACECodes for social_E2.xlsx', sheetname='Police_Justice_O.84.23')"
   ]
  },
  {
   "cell_type": "code",
   "execution_count": 40,
   "metadata": {},
   "outputs": [],
   "source": [
    "df_garda = df_garda[['NAME','LATITUDE','LONGITUDE','COMMERCIAL_DELIVERY_POINTS']]"
   ]
  },
  {
   "cell_type": "code",
   "execution_count": null,
   "metadata": {},
   "outputs": [],
   "source": [
    "#df_garda['Organisation_Name'] = df_garda.Organisation_Name.fillna(\"COURT SERVICE\")"
   ]
  },
  {
   "cell_type": "code",
   "execution_count": null,
   "metadata": {},
   "outputs": [],
   "source": [
    "#df_garda.dropna(axis=0, inplace=True)"
   ]
  },
  {
   "cell_type": "code",
   "execution_count": 41,
   "metadata": {},
   "outputs": [],
   "source": [
    "df_garda['LABEL'] = 'Police_Justice'"
   ]
  },
  {
   "cell_type": "code",
   "execution_count": 42,
   "metadata": {},
   "outputs": [
    {
     "name": "stdout",
     "output_type": "stream",
     "text": [
      "<class 'pandas.core.frame.DataFrame'>\n",
      "RangeIndex: 60 entries, 0 to 59\n",
      "Data columns (total 5 columns):\n",
      "NAME                          60 non-null object\n",
      "LATITUDE                      60 non-null float64\n",
      "LONGITUDE                     60 non-null float64\n",
      "COMMERCIAL_DELIVERY_POINTS    60 non-null int64\n",
      "LABEL                         60 non-null object\n",
      "dtypes: float64(2), int64(1), object(2)\n",
      "memory usage: 2.4+ KB\n"
     ]
    }
   ],
   "source": [
    "df_garda.info()"
   ]
  },
  {
   "cell_type": "code",
   "execution_count": 43,
   "metadata": {},
   "outputs": [
    {
     "data": {
      "text/html": [
       "<div>\n",
       "<style scoped>\n",
       "    .dataframe tbody tr th:only-of-type {\n",
       "        vertical-align: middle;\n",
       "    }\n",
       "\n",
       "    .dataframe tbody tr th {\n",
       "        vertical-align: top;\n",
       "    }\n",
       "\n",
       "    .dataframe thead th {\n",
       "        text-align: right;\n",
       "    }\n",
       "</style>\n",
       "<table border=\"1\" class=\"dataframe\">\n",
       "  <thead>\n",
       "    <tr style=\"text-align: right;\">\n",
       "      <th></th>\n",
       "      <th>NAME</th>\n",
       "      <th>LATITUDE</th>\n",
       "      <th>LONGITUDE</th>\n",
       "      <th>COMMERCIAL_DELIVERY_POINTS</th>\n",
       "      <th>LABEL</th>\n",
       "    </tr>\n",
       "  </thead>\n",
       "  <tbody>\n",
       "    <tr>\n",
       "      <th>57</th>\n",
       "      <td>DÓCHAS CENTRE</td>\n",
       "      <td>53.360895</td>\n",
       "      <td>-6.268375</td>\n",
       "      <td>1</td>\n",
       "      <td>Police_Justice</td>\n",
       "    </tr>\n",
       "    <tr>\n",
       "      <th>58</th>\n",
       "      <td>THE COURTHOUSE</td>\n",
       "      <td>53.349833</td>\n",
       "      <td>-6.270973</td>\n",
       "      <td>1</td>\n",
       "      <td>Police_Justice</td>\n",
       "    </tr>\n",
       "    <tr>\n",
       "      <th>59</th>\n",
       "      <td>DUBLIN CASTLE GARDA STATION</td>\n",
       "      <td>53.342924</td>\n",
       "      <td>-6.266789</td>\n",
       "      <td>1</td>\n",
       "      <td>Police_Justice</td>\n",
       "    </tr>\n",
       "  </tbody>\n",
       "</table>\n",
       "</div>"
      ],
      "text/plain": [
       "                           NAME   LATITUDE  LONGITUDE  \\\n",
       "57                DÓCHAS CENTRE  53.360895  -6.268375   \n",
       "58               THE COURTHOUSE  53.349833  -6.270973   \n",
       "59  DUBLIN CASTLE GARDA STATION  53.342924  -6.266789   \n",
       "\n",
       "    COMMERCIAL_DELIVERY_POINTS           LABEL  \n",
       "57                           1  Police_Justice  \n",
       "58                           1  Police_Justice  \n",
       "59                           1  Police_Justice  "
      ]
     },
     "execution_count": 43,
     "metadata": {},
     "output_type": "execute_result"
    }
   ],
   "source": [
    "df_garda.tail(3)"
   ]
  },
  {
   "cell_type": "code",
   "execution_count": 44,
   "metadata": {},
   "outputs": [],
   "source": [
    "df_garda.to_csv('./Pre-processing/George_DCC_code/Checkpoints from NACE/Police_Justice.csv', index=False)"
   ]
  },
  {
   "cell_type": "code",
   "execution_count": null,
   "metadata": {},
   "outputs": [],
   "source": []
  },
  {
   "cell_type": "code",
   "execution_count": 45,
   "metadata": {},
   "outputs": [],
   "source": [
    "# 8. Other-Human_Health_ActivQ.86.90 hospital + therapy\n",
    "\n",
    "df_hosp = pd.read_excel('./Pre-processing/George_DCC_code/Original Data/NACECodes for social_E2.xlsx', sheetname='Other-Human_Health_ActivQ.86.90')"
   ]
  },
  {
   "cell_type": "code",
   "execution_count": 46,
   "metadata": {},
   "outputs": [],
   "source": [
    "df_hosp = df_hosp[['NAME','LATITUDE','LONGITUDE','COMMERCIAL_DELIVERY_POINTS']]"
   ]
  },
  {
   "cell_type": "code",
   "execution_count": null,
   "metadata": {},
   "outputs": [],
   "source": [
    "#df_hosp['NAME'] = df_hosp.NAME.fillna(\"HEALTH SERVICE\")"
   ]
  },
  {
   "cell_type": "code",
   "execution_count": null,
   "metadata": {},
   "outputs": [],
   "source": [
    "#df_hosp.dropna(axis=0, inplace=True)"
   ]
  },
  {
   "cell_type": "code",
   "execution_count": 47,
   "metadata": {},
   "outputs": [],
   "source": [
    "df_hosp['LABEL'] = 'Medical_Service'"
   ]
  },
  {
   "cell_type": "code",
   "execution_count": 48,
   "metadata": {},
   "outputs": [
    {
     "name": "stdout",
     "output_type": "stream",
     "text": [
      "<class 'pandas.core.frame.DataFrame'>\n",
      "RangeIndex: 600 entries, 0 to 599\n",
      "Data columns (total 5 columns):\n",
      "NAME                          600 non-null object\n",
      "LATITUDE                      600 non-null float64\n",
      "LONGITUDE                     600 non-null float64\n",
      "COMMERCIAL_DELIVERY_POINTS    600 non-null int64\n",
      "LABEL                         600 non-null object\n",
      "dtypes: float64(2), int64(1), object(2)\n",
      "memory usage: 23.5+ KB\n"
     ]
    }
   ],
   "source": [
    "df_hosp.info()"
   ]
  },
  {
   "cell_type": "code",
   "execution_count": 49,
   "metadata": {},
   "outputs": [
    {
     "data": {
      "text/html": [
       "<div>\n",
       "<style scoped>\n",
       "    .dataframe tbody tr th:only-of-type {\n",
       "        vertical-align: middle;\n",
       "    }\n",
       "\n",
       "    .dataframe tbody tr th {\n",
       "        vertical-align: top;\n",
       "    }\n",
       "\n",
       "    .dataframe thead th {\n",
       "        text-align: right;\n",
       "    }\n",
       "</style>\n",
       "<table border=\"1\" class=\"dataframe\">\n",
       "  <thead>\n",
       "    <tr style=\"text-align: right;\">\n",
       "      <th></th>\n",
       "      <th>NAME</th>\n",
       "      <th>LATITUDE</th>\n",
       "      <th>LONGITUDE</th>\n",
       "      <th>COMMERCIAL_DELIVERY_POINTS</th>\n",
       "      <th>LABEL</th>\n",
       "    </tr>\n",
       "  </thead>\n",
       "  <tbody>\n",
       "    <tr>\n",
       "      <th>597</th>\n",
       "      <td>HSE CLINIC</td>\n",
       "      <td>53.347937</td>\n",
       "      <td>-6.300695</td>\n",
       "      <td>5</td>\n",
       "      <td>Medical_Service</td>\n",
       "    </tr>\n",
       "    <tr>\n",
       "      <th>598</th>\n",
       "      <td>HANOVER MEDICAL CENTRE</td>\n",
       "      <td>53.345223</td>\n",
       "      <td>-6.239029</td>\n",
       "      <td>2</td>\n",
       "      <td>Medical_Service</td>\n",
       "    </tr>\n",
       "    <tr>\n",
       "      <th>599</th>\n",
       "      <td>MERRION SQUARE OSTEOPATHS</td>\n",
       "      <td>53.341145</td>\n",
       "      <td>-6.250171</td>\n",
       "      <td>5</td>\n",
       "      <td>Medical_Service</td>\n",
       "    </tr>\n",
       "  </tbody>\n",
       "</table>\n",
       "</div>"
      ],
      "text/plain": [
       "                          NAME   LATITUDE  LONGITUDE  \\\n",
       "597                 HSE CLINIC  53.347937  -6.300695   \n",
       "598     HANOVER MEDICAL CENTRE  53.345223  -6.239029   \n",
       "599  MERRION SQUARE OSTEOPATHS  53.341145  -6.250171   \n",
       "\n",
       "     COMMERCIAL_DELIVERY_POINTS            LABEL  \n",
       "597                           5  Medical_Service  \n",
       "598                           2  Medical_Service  \n",
       "599                           5  Medical_Service  "
      ]
     },
     "execution_count": 49,
     "metadata": {},
     "output_type": "execute_result"
    }
   ],
   "source": [
    "df_hosp.tail(3)"
   ]
  },
  {
   "cell_type": "code",
   "execution_count": 50,
   "metadata": {},
   "outputs": [],
   "source": [
    "df_hosp.to_csv('./Pre-processing/George_DCC_code/Checkpoints from NACE/Medical_Services.csv', index=False)"
   ]
  },
  {
   "cell_type": "code",
   "execution_count": null,
   "metadata": {},
   "outputs": [],
   "source": []
  },
  {
   "cell_type": "markdown",
   "metadata": {
    "collapsed": true
   },
   "source": [
    "# 9. add them up!!"
   ]
  },
  {
   "cell_type": "code",
   "execution_count": 51,
   "metadata": {},
   "outputs": [],
   "source": [
    "df_total = df_c.append(df_Psch, ignore_index=True)"
   ]
  },
  {
   "cell_type": "code",
   "execution_count": 52,
   "metadata": {},
   "outputs": [],
   "source": [
    "df_total = df_total.append(df_2sch, ignore_index=True)"
   ]
  },
  {
   "cell_type": "code",
   "execution_count": 53,
   "metadata": {},
   "outputs": [],
   "source": [
    "df_total = df_total.append(df_univ, ignore_index=True)"
   ]
  },
  {
   "cell_type": "code",
   "execution_count": 54,
   "metadata": {},
   "outputs": [],
   "source": [
    "df_total = df_total.append(df_retail, ignore_index=True)"
   ]
  },
  {
   "cell_type": "code",
   "execution_count": 55,
   "metadata": {},
   "outputs": [],
   "source": [
    "df_total = df_total.append(df_gym, ignore_index=True)"
   ]
  },
  {
   "cell_type": "code",
   "execution_count": 56,
   "metadata": {},
   "outputs": [],
   "source": [
    "df_total = df_total.append(df_garda, ignore_index=True)"
   ]
  },
  {
   "cell_type": "code",
   "execution_count": 57,
   "metadata": {},
   "outputs": [],
   "source": [
    "df_total = df_total.append(df_hosp, ignore_index=True)"
   ]
  },
  {
   "cell_type": "code",
   "execution_count": 58,
   "metadata": {},
   "outputs": [
    {
     "data": {
      "text/html": [
       "<div>\n",
       "<style scoped>\n",
       "    .dataframe tbody tr th:only-of-type {\n",
       "        vertical-align: middle;\n",
       "    }\n",
       "\n",
       "    .dataframe tbody tr th {\n",
       "        vertical-align: top;\n",
       "    }\n",
       "\n",
       "    .dataframe thead th {\n",
       "        text-align: right;\n",
       "    }\n",
       "</style>\n",
       "<table border=\"1\" class=\"dataframe\">\n",
       "  <thead>\n",
       "    <tr style=\"text-align: right;\">\n",
       "      <th></th>\n",
       "      <th>NAME</th>\n",
       "      <th>LATITUDE</th>\n",
       "      <th>LONGITUDE</th>\n",
       "      <th>COMMERCIAL_DELIVERY_POINTS</th>\n",
       "      <th>LABEL</th>\n",
       "    </tr>\n",
       "  </thead>\n",
       "  <tbody>\n",
       "    <tr>\n",
       "      <th>55</th>\n",
       "      <td>COOLOCK HOUSE</td>\n",
       "      <td>53.385738</td>\n",
       "      <td>-6.199662</td>\n",
       "      <td>2</td>\n",
       "      <td>Regilious_Activities</td>\n",
       "    </tr>\n",
       "    <tr>\n",
       "      <th>69</th>\n",
       "      <td>HOLY CHILD CHURCH</td>\n",
       "      <td>53.384100</td>\n",
       "      <td>-6.241881</td>\n",
       "      <td>3</td>\n",
       "      <td>Regilious_Activities</td>\n",
       "    </tr>\n",
       "    <tr>\n",
       "      <th>70</th>\n",
       "      <td>HOLY CHILD CHURCH</td>\n",
       "      <td>53.384100</td>\n",
       "      <td>-6.241881</td>\n",
       "      <td>3</td>\n",
       "      <td>Regilious_Activities</td>\n",
       "    </tr>\n",
       "    <tr>\n",
       "      <th>73</th>\n",
       "      <td>HAMPTON HERITAGE</td>\n",
       "      <td>53.372743</td>\n",
       "      <td>-6.245175</td>\n",
       "      <td>2</td>\n",
       "      <td>Regilious_Activities</td>\n",
       "    </tr>\n",
       "    <tr>\n",
       "      <th>77</th>\n",
       "      <td>OUR LADY OF DOLOURS CATHOLIC CHURCH</td>\n",
       "      <td>53.372895</td>\n",
       "      <td>-6.267909</td>\n",
       "      <td>2</td>\n",
       "      <td>Regilious_Activities</td>\n",
       "    </tr>\n",
       "    <tr>\n",
       "      <th>142</th>\n",
       "      <td>SAINT ANDREWS CHURCH</td>\n",
       "      <td>53.343145</td>\n",
       "      <td>-6.249388</td>\n",
       "      <td>2</td>\n",
       "      <td>Regilious_Activities</td>\n",
       "    </tr>\n",
       "    <tr>\n",
       "      <th>146</th>\n",
       "      <td>CHURCH OF IRELAND HOUSE</td>\n",
       "      <td>53.319434</td>\n",
       "      <td>-6.261326</td>\n",
       "      <td>6</td>\n",
       "      <td>Regilious_Activities</td>\n",
       "    </tr>\n",
       "    <tr>\n",
       "      <th>147</th>\n",
       "      <td>CHURCH OF IRELAND HOUSE</td>\n",
       "      <td>53.319434</td>\n",
       "      <td>-6.261326</td>\n",
       "      <td>6</td>\n",
       "      <td>Regilious_Activities</td>\n",
       "    </tr>\n",
       "    <tr>\n",
       "      <th>148</th>\n",
       "      <td>CHURCH OF IRELAND HOUSE</td>\n",
       "      <td>53.319434</td>\n",
       "      <td>-6.261326</td>\n",
       "      <td>6</td>\n",
       "      <td>Regilious_Activities</td>\n",
       "    </tr>\n",
       "    <tr>\n",
       "      <th>149</th>\n",
       "      <td>CHURCH OF IRELAND HOUSE</td>\n",
       "      <td>53.319434</td>\n",
       "      <td>-6.261326</td>\n",
       "      <td>6</td>\n",
       "      <td>Regilious_Activities</td>\n",
       "    </tr>\n",
       "    <tr>\n",
       "      <th>150</th>\n",
       "      <td>CHURCH OF IRELAND HOUSE</td>\n",
       "      <td>53.319434</td>\n",
       "      <td>-6.261326</td>\n",
       "      <td>6</td>\n",
       "      <td>Regilious_Activities</td>\n",
       "    </tr>\n",
       "    <tr>\n",
       "      <th>164</th>\n",
       "      <td>SAINT PAUL'S CHURCH</td>\n",
       "      <td>53.346349</td>\n",
       "      <td>-6.277561</td>\n",
       "      <td>2</td>\n",
       "      <td>Regilious_Activities</td>\n",
       "    </tr>\n",
       "    <tr>\n",
       "      <th>174</th>\n",
       "      <td>STAR OF THE SEA CHURCH</td>\n",
       "      <td>53.336007</td>\n",
       "      <td>-6.219519</td>\n",
       "      <td>2</td>\n",
       "      <td>Regilious_Activities</td>\n",
       "    </tr>\n",
       "    <tr>\n",
       "      <th>182</th>\n",
       "      <td>COURT YARD</td>\n",
       "      <td>53.342373</td>\n",
       "      <td>-6.260880</td>\n",
       "      <td>4</td>\n",
       "      <td>Regilious_Activities</td>\n",
       "    </tr>\n",
       "    <tr>\n",
       "      <th>183</th>\n",
       "      <td>COURT YARD</td>\n",
       "      <td>53.342373</td>\n",
       "      <td>-6.260880</td>\n",
       "      <td>4</td>\n",
       "      <td>Regilious_Activities</td>\n",
       "    </tr>\n",
       "    <tr>\n",
       "      <th>238</th>\n",
       "      <td>ABBEY STREET METHODIST CHURCH</td>\n",
       "      <td>53.348807</td>\n",
       "      <td>-6.258045</td>\n",
       "      <td>3</td>\n",
       "      <td>Regilious_Activities</td>\n",
       "    </tr>\n",
       "    <tr>\n",
       "      <th>274</th>\n",
       "      <td>CATHOLIC CHURCH OF SAINT AGATHA</td>\n",
       "      <td>53.356781</td>\n",
       "      <td>-6.246150</td>\n",
       "      <td>2</td>\n",
       "      <td>Regilious_Activities</td>\n",
       "    </tr>\n",
       "    <tr>\n",
       "      <th>282</th>\n",
       "      <td>BOW BRIDGE BUSINESS CENTRE</td>\n",
       "      <td>53.342081</td>\n",
       "      <td>-6.296343</td>\n",
       "      <td>6</td>\n",
       "      <td>Regilious_Activities</td>\n",
       "    </tr>\n",
       "    <tr>\n",
       "      <th>285</th>\n",
       "      <td>SAINT CATHERINE'S CHURCH</td>\n",
       "      <td>53.342915</td>\n",
       "      <td>-6.281159</td>\n",
       "      <td>2</td>\n",
       "      <td>Regilious_Activities</td>\n",
       "    </tr>\n",
       "    <tr>\n",
       "      <th>311</th>\n",
       "      <td>OUR LADY OF GOOD COUNSEL</td>\n",
       "      <td>53.331535</td>\n",
       "      <td>-6.317476</td>\n",
       "      <td>2</td>\n",
       "      <td>Regilious_Activities</td>\n",
       "    </tr>\n",
       "    <tr>\n",
       "      <th>323</th>\n",
       "      <td>ULYSSES HOUSE</td>\n",
       "      <td>53.351914</td>\n",
       "      <td>-6.250883</td>\n",
       "      <td>19</td>\n",
       "      <td>Regilious_Activities</td>\n",
       "    </tr>\n",
       "    <tr>\n",
       "      <th>324</th>\n",
       "      <td>ULYSSES HOUSE</td>\n",
       "      <td>53.351914</td>\n",
       "      <td>-6.250883</td>\n",
       "      <td>19</td>\n",
       "      <td>Regilious_Activities</td>\n",
       "    </tr>\n",
       "    <tr>\n",
       "      <th>421</th>\n",
       "      <td>PRIMARY SCHOOL</td>\n",
       "      <td>53.346423</td>\n",
       "      <td>-6.361162</td>\n",
       "      <td>2</td>\n",
       "      <td>Primary_Schools</td>\n",
       "    </tr>\n",
       "    <tr>\n",
       "      <th>443</th>\n",
       "      <td>SAINT AGNES NATIONAL SCHOOL</td>\n",
       "      <td>53.319337</td>\n",
       "      <td>-6.307263</td>\n",
       "      <td>2</td>\n",
       "      <td>Primary_Schools</td>\n",
       "    </tr>\n",
       "    <tr>\n",
       "      <th>457</th>\n",
       "      <td>PRIMARY SCHOOL</td>\n",
       "      <td>53.333341</td>\n",
       "      <td>-6.267247</td>\n",
       "      <td>2</td>\n",
       "      <td>Primary_Schools</td>\n",
       "    </tr>\n",
       "    <tr>\n",
       "      <th>471</th>\n",
       "      <td>PRIMARY SCHOOL</td>\n",
       "      <td>53.340390</td>\n",
       "      <td>-6.290169</td>\n",
       "      <td>2</td>\n",
       "      <td>Primary_Schools</td>\n",
       "    </tr>\n",
       "    <tr>\n",
       "      <th>882</th>\n",
       "      <td>FINGLAS TOWN CENTRE</td>\n",
       "      <td>53.389037</td>\n",
       "      <td>-6.299607</td>\n",
       "      <td>14</td>\n",
       "      <td>Retail</td>\n",
       "    </tr>\n",
       "    <tr>\n",
       "      <th>917</th>\n",
       "      <td>MAPLE SHOPPING CENTRE</td>\n",
       "      <td>53.361132</td>\n",
       "      <td>-6.298730</td>\n",
       "      <td>8</td>\n",
       "      <td>Retail</td>\n",
       "    </tr>\n",
       "    <tr>\n",
       "      <th>954</th>\n",
       "      <td>LE FANU SHOPPING CENTRE</td>\n",
       "      <td>53.343364</td>\n",
       "      <td>-6.356426</td>\n",
       "      <td>11</td>\n",
       "      <td>Retail</td>\n",
       "    </tr>\n",
       "    <tr>\n",
       "      <th>1001</th>\n",
       "      <td>KILBARRACK SHOPPING CENTRE</td>\n",
       "      <td>53.388514</td>\n",
       "      <td>-6.167089</td>\n",
       "      <td>26</td>\n",
       "      <td>Retail</td>\n",
       "    </tr>\n",
       "    <tr>\n",
       "      <th>1002</th>\n",
       "      <td>KILBARRACK SHOPPING CENTRE</td>\n",
       "      <td>53.388514</td>\n",
       "      <td>-6.167089</td>\n",
       "      <td>26</td>\n",
       "      <td>Retail</td>\n",
       "    </tr>\n",
       "    <tr>\n",
       "      <th>1712</th>\n",
       "      <td>NORTHSIDE ENTERPRISE CENTRE</td>\n",
       "      <td>53.394833</td>\n",
       "      <td>-6.206296</td>\n",
       "      <td>14</td>\n",
       "      <td>Medical_Service</td>\n",
       "    </tr>\n",
       "    <tr>\n",
       "      <th>1807</th>\n",
       "      <td>CAREW HOUSE</td>\n",
       "      <td>53.317371</td>\n",
       "      <td>-6.209608</td>\n",
       "      <td>2</td>\n",
       "      <td>Medical_Service</td>\n",
       "    </tr>\n",
       "  </tbody>\n",
       "</table>\n",
       "</div>"
      ],
      "text/plain": [
       "                                     NAME   LATITUDE  LONGITUDE  \\\n",
       "55                          COOLOCK HOUSE  53.385738  -6.199662   \n",
       "69                      HOLY CHILD CHURCH  53.384100  -6.241881   \n",
       "70                      HOLY CHILD CHURCH  53.384100  -6.241881   \n",
       "73                       HAMPTON HERITAGE  53.372743  -6.245175   \n",
       "77    OUR LADY OF DOLOURS CATHOLIC CHURCH  53.372895  -6.267909   \n",
       "142                  SAINT ANDREWS CHURCH  53.343145  -6.249388   \n",
       "146               CHURCH OF IRELAND HOUSE  53.319434  -6.261326   \n",
       "147               CHURCH OF IRELAND HOUSE  53.319434  -6.261326   \n",
       "148               CHURCH OF IRELAND HOUSE  53.319434  -6.261326   \n",
       "149               CHURCH OF IRELAND HOUSE  53.319434  -6.261326   \n",
       "150               CHURCH OF IRELAND HOUSE  53.319434  -6.261326   \n",
       "164                   SAINT PAUL'S CHURCH  53.346349  -6.277561   \n",
       "174                STAR OF THE SEA CHURCH  53.336007  -6.219519   \n",
       "182                            COURT YARD  53.342373  -6.260880   \n",
       "183                            COURT YARD  53.342373  -6.260880   \n",
       "238         ABBEY STREET METHODIST CHURCH  53.348807  -6.258045   \n",
       "274       CATHOLIC CHURCH OF SAINT AGATHA  53.356781  -6.246150   \n",
       "282            BOW BRIDGE BUSINESS CENTRE  53.342081  -6.296343   \n",
       "285              SAINT CATHERINE'S CHURCH  53.342915  -6.281159   \n",
       "311              OUR LADY OF GOOD COUNSEL  53.331535  -6.317476   \n",
       "323                         ULYSSES HOUSE  53.351914  -6.250883   \n",
       "324                         ULYSSES HOUSE  53.351914  -6.250883   \n",
       "421                        PRIMARY SCHOOL  53.346423  -6.361162   \n",
       "443           SAINT AGNES NATIONAL SCHOOL  53.319337  -6.307263   \n",
       "457                        PRIMARY SCHOOL  53.333341  -6.267247   \n",
       "471                        PRIMARY SCHOOL  53.340390  -6.290169   \n",
       "882                   FINGLAS TOWN CENTRE  53.389037  -6.299607   \n",
       "917                 MAPLE SHOPPING CENTRE  53.361132  -6.298730   \n",
       "954               LE FANU SHOPPING CENTRE  53.343364  -6.356426   \n",
       "1001           KILBARRACK SHOPPING CENTRE  53.388514  -6.167089   \n",
       "1002           KILBARRACK SHOPPING CENTRE  53.388514  -6.167089   \n",
       "1712          NORTHSIDE ENTERPRISE CENTRE  53.394833  -6.206296   \n",
       "1807                          CAREW HOUSE  53.317371  -6.209608   \n",
       "\n",
       "      COMMERCIAL_DELIVERY_POINTS                 LABEL  \n",
       "55                             2  Regilious_Activities  \n",
       "69                             3  Regilious_Activities  \n",
       "70                             3  Regilious_Activities  \n",
       "73                             2  Regilious_Activities  \n",
       "77                             2  Regilious_Activities  \n",
       "142                            2  Regilious_Activities  \n",
       "146                            6  Regilious_Activities  \n",
       "147                            6  Regilious_Activities  \n",
       "148                            6  Regilious_Activities  \n",
       "149                            6  Regilious_Activities  \n",
       "150                            6  Regilious_Activities  \n",
       "164                            2  Regilious_Activities  \n",
       "174                            2  Regilious_Activities  \n",
       "182                            4  Regilious_Activities  \n",
       "183                            4  Regilious_Activities  \n",
       "238                            3  Regilious_Activities  \n",
       "274                            2  Regilious_Activities  \n",
       "282                            6  Regilious_Activities  \n",
       "285                            2  Regilious_Activities  \n",
       "311                            2  Regilious_Activities  \n",
       "323                           19  Regilious_Activities  \n",
       "324                           19  Regilious_Activities  \n",
       "421                            2       Primary_Schools  \n",
       "443                            2       Primary_Schools  \n",
       "457                            2       Primary_Schools  \n",
       "471                            2       Primary_Schools  \n",
       "882                           14                Retail  \n",
       "917                            8                Retail  \n",
       "954                           11                Retail  \n",
       "1001                          26                Retail  \n",
       "1002                          26                Retail  \n",
       "1712                          14       Medical_Service  \n",
       "1807                           2       Medical_Service  "
      ]
     },
     "execution_count": 58,
     "metadata": {},
     "output_type": "execute_result"
    }
   ],
   "source": [
    "df_total[df_total.duplicated()]"
   ]
  },
  {
   "cell_type": "code",
   "execution_count": 59,
   "metadata": {},
   "outputs": [],
   "source": [
    "df_total.drop_duplicates(inplace=True)"
   ]
  },
  {
   "cell_type": "code",
   "execution_count": 60,
   "metadata": {},
   "outputs": [
    {
     "name": "stdout",
     "output_type": "stream",
     "text": [
      "<class 'pandas.core.frame.DataFrame'>\n",
      "Int64Index: 1900 entries, 0 to 1932\n",
      "Data columns (total 5 columns):\n",
      "NAME                          1900 non-null object\n",
      "LATITUDE                      1900 non-null float64\n",
      "LONGITUDE                     1900 non-null float64\n",
      "COMMERCIAL_DELIVERY_POINTS    1900 non-null int64\n",
      "LABEL                         1900 non-null object\n",
      "dtypes: float64(2), int64(1), object(2)\n",
      "memory usage: 89.1+ KB\n"
     ]
    }
   ],
   "source": [
    "df_total.info()"
   ]
  },
  {
   "cell_type": "code",
   "execution_count": 61,
   "metadata": {},
   "outputs": [],
   "source": [
    "df_total.to_csv('./Pre-processing/George_DCC_code/Checkpoints from NACE/Total_Amenity.csv', index=False)"
   ]
  },
  {
   "cell_type": "code",
   "execution_count": null,
   "metadata": {},
   "outputs": [],
   "source": []
  },
  {
   "cell_type": "code",
   "execution_count": null,
   "metadata": {},
   "outputs": [],
   "source": []
  },
  {
   "cell_type": "code",
   "execution_count": null,
   "metadata": {},
   "outputs": [],
   "source": []
  },
  {
   "cell_type": "code",
   "execution_count": null,
   "metadata": {},
   "outputs": [],
   "source": [
    "###############################################################################################################################"
   ]
  },
  {
   "cell_type": "code",
   "execution_count": null,
   "metadata": {},
   "outputs": [],
   "source": [
    "###############################################################################################################################"
   ]
  },
  {
   "cell_type": "code",
   "execution_count": 67,
   "metadata": {},
   "outputs": [
    {
     "data": {
      "text/plain": [
       "array([[-6.25672016, 53.36144925]])"
      ]
     },
     "execution_count": 67,
     "metadata": {},
     "output_type": "execute_result"
    }
   ],
   "source": [
    "# 10. generating random Grid points (1000)\n",
    "\n",
    "# find the center coordinates of Dublin\n",
    "from sklearn.cluster import KMeans\n",
    "df = pd.read_csv('./Pre-processing/KML_SOCI_coordinates.csv')\n",
    "kmeans = KMeans(n_clusters=1)\n",
    "kmeans.fit(df)\n",
    "centroids = kmeans.cluster_centers_; centroids"
   ]
  },
  {
   "cell_type": "code",
   "execution_count": 68,
   "metadata": {},
   "outputs": [
    {
     "data": {
      "text/html": [
       "<div>\n",
       "<style scoped>\n",
       "    .dataframe tbody tr th:only-of-type {\n",
       "        vertical-align: middle;\n",
       "    }\n",
       "\n",
       "    .dataframe tbody tr th {\n",
       "        vertical-align: top;\n",
       "    }\n",
       "\n",
       "    .dataframe thead th {\n",
       "        text-align: right;\n",
       "    }\n",
       "</style>\n",
       "<table border=\"1\" class=\"dataframe\">\n",
       "  <thead>\n",
       "    <tr style=\"text-align: right;\">\n",
       "      <th></th>\n",
       "      <th>X</th>\n",
       "      <th>Y</th>\n",
       "    </tr>\n",
       "  </thead>\n",
       "  <tbody>\n",
       "    <tr>\n",
       "      <th>0</th>\n",
       "      <td>-6.351205</td>\n",
       "      <td>53.366512</td>\n",
       "    </tr>\n",
       "    <tr>\n",
       "      <th>1</th>\n",
       "      <td>-6.351215</td>\n",
       "      <td>53.366495</td>\n",
       "    </tr>\n",
       "    <tr>\n",
       "      <th>2</th>\n",
       "      <td>-6.351240</td>\n",
       "      <td>53.366460</td>\n",
       "    </tr>\n",
       "    <tr>\n",
       "      <th>3</th>\n",
       "      <td>-6.351263</td>\n",
       "      <td>53.366436</td>\n",
       "    </tr>\n",
       "    <tr>\n",
       "      <th>4</th>\n",
       "      <td>-6.351473</td>\n",
       "      <td>53.366082</td>\n",
       "    </tr>\n",
       "  </tbody>\n",
       "</table>\n",
       "</div>"
      ],
      "text/plain": [
       "          X          Y\n",
       "0 -6.351205  53.366512\n",
       "1 -6.351215  53.366495\n",
       "2 -6.351240  53.366460\n",
       "3 -6.351263  53.366436\n",
       "4 -6.351473  53.366082"
      ]
     },
     "execution_count": 68,
     "metadata": {},
     "output_type": "execute_result"
    }
   ],
   "source": [
    "df.head()"
   ]
  },
  {
   "cell_type": "code",
   "execution_count": 69,
   "metadata": {},
   "outputs": [
    {
     "data": {
      "text/html": [
       "<div>\n",
       "<style scoped>\n",
       "    .dataframe tbody tr th:only-of-type {\n",
       "        vertical-align: middle;\n",
       "    }\n",
       "\n",
       "    .dataframe tbody tr th {\n",
       "        vertical-align: top;\n",
       "    }\n",
       "\n",
       "    .dataframe thead th {\n",
       "        text-align: right;\n",
       "    }\n",
       "</style>\n",
       "<table border=\"1\" class=\"dataframe\">\n",
       "  <thead>\n",
       "    <tr style=\"text-align: right;\">\n",
       "      <th></th>\n",
       "      <th>0</th>\n",
       "      <th>1</th>\n",
       "    </tr>\n",
       "  </thead>\n",
       "  <tbody>\n",
       "    <tr>\n",
       "      <th>0</th>\n",
       "      <td>-6.25672</td>\n",
       "      <td>53.361449</td>\n",
       "    </tr>\n",
       "  </tbody>\n",
       "</table>\n",
       "</div>"
      ],
      "text/plain": [
       "         0          1\n",
       "0 -6.25672  53.361449"
      ]
     },
     "execution_count": 69,
     "metadata": {},
     "output_type": "execute_result"
    }
   ],
   "source": [
    "centroids = pd.DataFrame(centroids); centroids"
   ]
  },
  {
   "cell_type": "code",
   "execution_count": null,
   "metadata": {
    "scrolled": true
   },
   "outputs": [],
   "source": [
    "#A grid in degrees (the length in meters of a step in degrees is not the same across Earth's surface.) 30 x 30 almost\n",
    "\n",
    "stepsize = 0.005\n",
    "lonmin = -6.39\n",
    "lonmax = -6.14\n",
    "latmin = 53.285\n",
    "latmax = 53.415\n",
    "\n",
    "grid = []\n",
    "\n",
    "#import numpy as np\n",
    "\n",
    "for i in np.arange(lonmin,lonmax,stepsize):\n",
    "    for j in np.arange(latmin,latmax,stepsize):\n",
    "        grid.append([round(i,6), round(j, 6)]) \n",
    "\n",
    "\n",
    "#The range() function can only work with integers.??? \n",
    "#use numpy.arange or numpy.linspace option and python's enumerate().\n",
    "#for x in range(lonmin, lonmax, stepsize):\n",
    "#    for y in range(latmin, latmax, stepsize):\n",
    "#        grid.append([x,y])\n",
    "len(grid)\n",
    "#grid"
   ]
  },
  {
   "cell_type": "code",
   "execution_count": null,
   "metadata": {},
   "outputs": [],
   "source": [
    "grid_df = pd.DataFrame(np.array(grid).reshape(1350,2), columns=['LONGITUDE', 'LATITUDE']); grid_df"
   ]
  },
  {
   "cell_type": "code",
   "execution_count": null,
   "metadata": {},
   "outputs": [],
   "source": [
    "# Plot all? # X,Y, centroids..all should be in df for a scatter plot ! \n",
    "\n",
    "plt.scatter(df['X'], df['Y'])\n",
    "plt.scatter(grid_df['LONGITUDE'], grid_df['LATITUDE'], marker='+', alpha=0.7, s=10)\n",
    "plt.scatter(centroids.iloc[:, 0], centroids.iloc[:, 1], c='red')\n",
    "plt.grid()\n",
    "plt.show()"
   ]
  },
  {
   "cell_type": "code",
   "execution_count": null,
   "metadata": {},
   "outputs": [],
   "source": [
    "grid_df['NAME'] = 'Grid_P'"
   ]
  },
  {
   "cell_type": "code",
   "execution_count": null,
   "metadata": {},
   "outputs": [],
   "source": [
    "grid_df.to_csv('./Pre-processing/George_DCC_code/Checkpoints from NACE/grid_Full.csv', index=False)"
   ]
  },
  {
   "cell_type": "code",
   "execution_count": null,
   "metadata": {},
   "outputs": [],
   "source": [
    "grid_df.head()"
   ]
  },
  {
   "cell_type": "code",
   "execution_count": null,
   "metadata": {},
   "outputs": [],
   "source": [
    "grid_df = grid_df.query('(LATITUDE >= 53.305) & (LATITUDE <= 53.41)')"
   ]
  },
  {
   "cell_type": "code",
   "execution_count": null,
   "metadata": {},
   "outputs": [],
   "source": [
    "grid_df = grid_df.query('(LATITUDE <= 53.355) or (LONGITUDE >= -6.335)')"
   ]
  },
  {
   "cell_type": "code",
   "execution_count": null,
   "metadata": {},
   "outputs": [],
   "source": [
    "grid_df = grid_df.query('(LATITUDE >= 53.355) or (LONGITUDE <= -6.2)')"
   ]
  },
  {
   "cell_type": "code",
   "execution_count": null,
   "metadata": {},
   "outputs": [],
   "source": [
    "grid_df.info()"
   ]
  },
  {
   "cell_type": "code",
   "execution_count": null,
   "metadata": {},
   "outputs": [],
   "source": [
    "grid_df['ID'] = '0'\n",
    "grid_df['Degree'] = 0\n",
    "grid_df['coeff'] = 0\n",
    "grid_df['Type'] = 'Grid'\n",
    "\n",
    "grid_df.head()"
   ]
  },
  {
   "cell_type": "code",
   "execution_count": null,
   "metadata": {},
   "outputs": [],
   "source": [
    "grid_df.to_csv('./Pre-processing/George_DCC_code/Checkpoints from NACE/grid_v2.csv', index=False)"
   ]
  },
  {
   "cell_type": "code",
   "execution_count": null,
   "metadata": {},
   "outputs": [],
   "source": []
  },
  {
   "cell_type": "code",
   "execution_count": null,
   "metadata": {},
   "outputs": [],
   "source": []
  },
  {
   "cell_type": "code",
   "execution_count": null,
   "metadata": {},
   "outputs": [],
   "source": [
    "###############################################################################################################################"
   ]
  },
  {
   "cell_type": "code",
   "execution_count": 5,
   "metadata": {},
   "outputs": [],
   "source": [
    "# total dang....grid + total amenity ??? Why? Unnecessary....\n",
    "\n",
    "grid_df = pd.read_csv('./Pre-processing/George_DCC_code/Checkpoints from NACE/grid_v2.csv', encoding= \"ISO-8859-1\")\n",
    "gd_df = pd.read_csv('./Pre-processing/George_DCC_code/Checkpoints from NACE/Total_Amenity.csv', encoding = \"ISO-8859-1\")"
   ]
  },
  {
   "cell_type": "code",
   "execution_count": 6,
   "metadata": {},
   "outputs": [
    {
     "name": "stderr",
     "output_type": "stream",
     "text": [
      "c:\\users\\minkun\\appdata\\local\\programs\\python\\python37\\lib\\site-packages\\ipykernel_launcher.py:1: FutureWarning: Sorting because non-concatenation axis is not aligned. A future version\n",
      "of pandas will change to not sort by default.\n",
      "\n",
      "To accept the future behavior, pass 'sort=False'.\n",
      "\n",
      "To retain the current behavior and silence the warning, pass 'sort=True'.\n",
      "\n",
      "  \"\"\"Entry point for launching an IPython kernel.\n"
     ]
    }
   ],
   "source": [
    "gd_tt = pd.concat([grid_df, gd_df])"
   ]
  },
  {
   "cell_type": "code",
   "execution_count": 7,
   "metadata": {},
   "outputs": [
    {
     "name": "stdout",
     "output_type": "stream",
     "text": [
      "<class 'pandas.core.frame.DataFrame'>\n",
      "Int64Index: 2769 entries, 0 to 1899\n",
      "Data columns (total 9 columns):\n",
      "COMMERCIAL_DELIVERY_POINTS    1900 non-null float64\n",
      "Degree                        869 non-null float64\n",
      "ID                            869 non-null float64\n",
      "LABEL                         1900 non-null object\n",
      "LATITUDE                      2769 non-null float64\n",
      "LONGITUDE                     2769 non-null float64\n",
      "NAME                          2769 non-null object\n",
      "Type                          869 non-null object\n",
      "coeff                         869 non-null float64\n",
      "dtypes: float64(6), object(3)\n",
      "memory usage: 216.3+ KB\n"
     ]
    }
   ],
   "source": [
    "gd_tt.info()"
   ]
  },
  {
   "cell_type": "code",
   "execution_count": 8,
   "metadata": {},
   "outputs": [
    {
     "data": {
      "text/html": [
       "<div>\n",
       "<style scoped>\n",
       "    .dataframe tbody tr th:only-of-type {\n",
       "        vertical-align: middle;\n",
       "    }\n",
       "\n",
       "    .dataframe tbody tr th {\n",
       "        vertical-align: top;\n",
       "    }\n",
       "\n",
       "    .dataframe thead th {\n",
       "        text-align: right;\n",
       "    }\n",
       "</style>\n",
       "<table border=\"1\" class=\"dataframe\">\n",
       "  <thead>\n",
       "    <tr style=\"text-align: right;\">\n",
       "      <th></th>\n",
       "      <th>COMMERCIAL_DELIVERY_POINTS</th>\n",
       "      <th>Degree</th>\n",
       "      <th>ID</th>\n",
       "      <th>LABEL</th>\n",
       "      <th>LATITUDE</th>\n",
       "      <th>LONGITUDE</th>\n",
       "      <th>NAME</th>\n",
       "      <th>Type</th>\n",
       "      <th>coeff</th>\n",
       "    </tr>\n",
       "  </thead>\n",
       "  <tbody>\n",
       "    <tr>\n",
       "      <th>1895</th>\n",
       "      <td>2.0</td>\n",
       "      <td>NaN</td>\n",
       "      <td>NaN</td>\n",
       "      <td>Medical_Service</td>\n",
       "      <td>53.356255</td>\n",
       "      <td>-6.268807</td>\n",
       "      <td>Y. A. S. S.</td>\n",
       "      <td>NaN</td>\n",
       "      <td>NaN</td>\n",
       "    </tr>\n",
       "    <tr>\n",
       "      <th>1896</th>\n",
       "      <td>1.0</td>\n",
       "      <td>NaN</td>\n",
       "      <td>NaN</td>\n",
       "      <td>Medical_Service</td>\n",
       "      <td>53.321159</td>\n",
       "      <td>-6.239793</td>\n",
       "      <td>DONNYBROOK CHIROPODY CENTRE</td>\n",
       "      <td>NaN</td>\n",
       "      <td>NaN</td>\n",
       "    </tr>\n",
       "    <tr>\n",
       "      <th>1897</th>\n",
       "      <td>5.0</td>\n",
       "      <td>NaN</td>\n",
       "      <td>NaN</td>\n",
       "      <td>Medical_Service</td>\n",
       "      <td>53.347937</td>\n",
       "      <td>-6.300695</td>\n",
       "      <td>HSE CLINIC</td>\n",
       "      <td>NaN</td>\n",
       "      <td>NaN</td>\n",
       "    </tr>\n",
       "    <tr>\n",
       "      <th>1898</th>\n",
       "      <td>2.0</td>\n",
       "      <td>NaN</td>\n",
       "      <td>NaN</td>\n",
       "      <td>Medical_Service</td>\n",
       "      <td>53.345223</td>\n",
       "      <td>-6.239029</td>\n",
       "      <td>HANOVER MEDICAL CENTRE</td>\n",
       "      <td>NaN</td>\n",
       "      <td>NaN</td>\n",
       "    </tr>\n",
       "    <tr>\n",
       "      <th>1899</th>\n",
       "      <td>5.0</td>\n",
       "      <td>NaN</td>\n",
       "      <td>NaN</td>\n",
       "      <td>Medical_Service</td>\n",
       "      <td>53.341145</td>\n",
       "      <td>-6.250171</td>\n",
       "      <td>MERRION SQUARE OSTEOPATHS</td>\n",
       "      <td>NaN</td>\n",
       "      <td>NaN</td>\n",
       "    </tr>\n",
       "  </tbody>\n",
       "</table>\n",
       "</div>"
      ],
      "text/plain": [
       "      COMMERCIAL_DELIVERY_POINTS  Degree  ID            LABEL   LATITUDE  \\\n",
       "1895                         2.0     NaN NaN  Medical_Service  53.356255   \n",
       "1896                         1.0     NaN NaN  Medical_Service  53.321159   \n",
       "1897                         5.0     NaN NaN  Medical_Service  53.347937   \n",
       "1898                         2.0     NaN NaN  Medical_Service  53.345223   \n",
       "1899                         5.0     NaN NaN  Medical_Service  53.341145   \n",
       "\n",
       "      LONGITUDE                         NAME Type  coeff  \n",
       "1895  -6.268807                  Y. A. S. S.  NaN    NaN  \n",
       "1896  -6.239793  DONNYBROOK CHIROPODY CENTRE  NaN    NaN  \n",
       "1897  -6.300695                   HSE CLINIC  NaN    NaN  \n",
       "1898  -6.239029       HANOVER MEDICAL CENTRE  NaN    NaN  \n",
       "1899  -6.250171    MERRION SQUARE OSTEOPATHS  NaN    NaN  "
      ]
     },
     "execution_count": 8,
     "metadata": {},
     "output_type": "execute_result"
    }
   ],
   "source": [
    "gd_tt.tail()"
   ]
  },
  {
   "cell_type": "code",
   "execution_count": 70,
   "metadata": {},
   "outputs": [
    {
     "data": {
      "image/png": "[encoded data removed]",
      "text/plain": [
       "<Figure size 432x288 with 1 Axes>"
      ]
     },
     "metadata": {
      "needs_background": "light"
     },
     "output_type": "display_data"
    }
   ],
   "source": [
    "#plt.scatter(df['X'], df['Y'])\n",
    "plt.scatter(gd_tt['LONGITUDE'], gd_tt['LATITUDE'], marker='+', alpha=0.7, s=10)\n",
    "plt.scatter(centroids.iloc[:, 0], centroids.iloc[:, 1], c='red')\n",
    "plt.grid()\n",
    "plt.show()"
   ]
  },
  {
   "cell_type": "code",
   "execution_count": 9,
   "metadata": {},
   "outputs": [],
   "source": [
    "gd_tt.to_csv('./Pre-processing/George_DCC_code/Checkpoints from NACE/grid_v2_total_amenity.csv', index=False)"
   ]
  },
  {
   "cell_type": "code",
   "execution_count": null,
   "metadata": {},
   "outputs": [],
   "source": []
  },
  {
   "cell_type": "code",
   "execution_count": 10,
   "metadata": {},
   "outputs": [
    {
     "data": {
      "text/html": [
       "<div>\n",
       "<style scoped>\n",
       "    .dataframe tbody tr th:only-of-type {\n",
       "        vertical-align: middle;\n",
       "    }\n",
       "\n",
       "    .dataframe tbody tr th {\n",
       "        vertical-align: top;\n",
       "    }\n",
       "\n",
       "    .dataframe thead th {\n",
       "        text-align: right;\n",
       "    }\n",
       "</style>\n",
       "<table border=\"1\" class=\"dataframe\">\n",
       "  <thead>\n",
       "    <tr style=\"text-align: right;\">\n",
       "      <th></th>\n",
       "      <th>COMMERCIAL_DELIVERY_POINTS</th>\n",
       "      <th>Degree</th>\n",
       "      <th>ID</th>\n",
       "      <th>LABEL</th>\n",
       "      <th>LATITUDE</th>\n",
       "      <th>LONGITUDE</th>\n",
       "      <th>NAME</th>\n",
       "      <th>Type</th>\n",
       "      <th>coeff</th>\n",
       "    </tr>\n",
       "  </thead>\n",
       "  <tbody>\n",
       "    <tr>\n",
       "      <th>1895</th>\n",
       "      <td>2.0</td>\n",
       "      <td>NaN</td>\n",
       "      <td>NaN</td>\n",
       "      <td>Medical_Service</td>\n",
       "      <td>53.356255</td>\n",
       "      <td>-6.268807</td>\n",
       "      <td>Y. A. S. S.</td>\n",
       "      <td>NaN</td>\n",
       "      <td>NaN</td>\n",
       "    </tr>\n",
       "    <tr>\n",
       "      <th>1896</th>\n",
       "      <td>1.0</td>\n",
       "      <td>NaN</td>\n",
       "      <td>NaN</td>\n",
       "      <td>Medical_Service</td>\n",
       "      <td>53.321159</td>\n",
       "      <td>-6.239793</td>\n",
       "      <td>DONNYBROOK CHIROPODY CENTRE</td>\n",
       "      <td>NaN</td>\n",
       "      <td>NaN</td>\n",
       "    </tr>\n",
       "    <tr>\n",
       "      <th>1897</th>\n",
       "      <td>5.0</td>\n",
       "      <td>NaN</td>\n",
       "      <td>NaN</td>\n",
       "      <td>Medical_Service</td>\n",
       "      <td>53.347937</td>\n",
       "      <td>-6.300695</td>\n",
       "      <td>HSE CLINIC</td>\n",
       "      <td>NaN</td>\n",
       "      <td>NaN</td>\n",
       "    </tr>\n",
       "    <tr>\n",
       "      <th>1898</th>\n",
       "      <td>2.0</td>\n",
       "      <td>NaN</td>\n",
       "      <td>NaN</td>\n",
       "      <td>Medical_Service</td>\n",
       "      <td>53.345223</td>\n",
       "      <td>-6.239029</td>\n",
       "      <td>HANOVER MEDICAL CENTRE</td>\n",
       "      <td>NaN</td>\n",
       "      <td>NaN</td>\n",
       "    </tr>\n",
       "    <tr>\n",
       "      <th>1899</th>\n",
       "      <td>5.0</td>\n",
       "      <td>NaN</td>\n",
       "      <td>NaN</td>\n",
       "      <td>Medical_Service</td>\n",
       "      <td>53.341145</td>\n",
       "      <td>-6.250171</td>\n",
       "      <td>MERRION SQUARE OSTEOPATHS</td>\n",
       "      <td>NaN</td>\n",
       "      <td>NaN</td>\n",
       "    </tr>\n",
       "  </tbody>\n",
       "</table>\n",
       "</div>"
      ],
      "text/plain": [
       "      COMMERCIAL_DELIVERY_POINTS  Degree  ID            LABEL   LATITUDE  \\\n",
       "1895                         2.0     NaN NaN  Medical_Service  53.356255   \n",
       "1896                         1.0     NaN NaN  Medical_Service  53.321159   \n",
       "1897                         5.0     NaN NaN  Medical_Service  53.347937   \n",
       "1898                         2.0     NaN NaN  Medical_Service  53.345223   \n",
       "1899                         5.0     NaN NaN  Medical_Service  53.341145   \n",
       "\n",
       "      LONGITUDE                         NAME Type  coeff  \n",
       "1895  -6.268807                  Y. A. S. S.  NaN    NaN  \n",
       "1896  -6.239793  DONNYBROOK CHIROPODY CENTRE  NaN    NaN  \n",
       "1897  -6.300695                   HSE CLINIC  NaN    NaN  \n",
       "1898  -6.239029       HANOVER MEDICAL CENTRE  NaN    NaN  \n",
       "1899  -6.250171    MERRION SQUARE OSTEOPATHS  NaN    NaN  "
      ]
     },
     "execution_count": 10,
     "metadata": {},
     "output_type": "execute_result"
    }
   ],
   "source": [
    "gd_tt.tail()"
   ]
  },
  {
   "cell_type": "code",
   "execution_count": null,
   "metadata": {},
   "outputs": [],
   "source": []
  },
  {
   "cell_type": "code",
   "execution_count": null,
   "metadata": {},
   "outputs": [],
   "source": []
  },
  {
   "cell_type": "code",
   "execution_count": null,
   "metadata": {},
   "outputs": [],
   "source": []
  },
  {
   "cell_type": "code",
   "execution_count": null,
   "metadata": {},
   "outputs": [],
   "source": []
  },
  {
   "cell_type": "code",
   "execution_count": null,
   "metadata": {},
   "outputs": [],
   "source": []
  },
  {
   "cell_type": "code",
   "execution_count": null,
   "metadata": {},
   "outputs": [],
   "source": []
  },
  {
   "cell_type": "code",
   "execution_count": null,
   "metadata": {},
   "outputs": [],
   "source": []
  },
  {
   "cell_type": "code",
   "execution_count": null,
   "metadata": {},
   "outputs": [],
   "source": []
  },
  {
   "cell_type": "code",
   "execution_count": null,
   "metadata": {},
   "outputs": [],
   "source": []
  },
  {
   "cell_type": "code",
   "execution_count": null,
   "metadata": {},
   "outputs": [],
   "source": []
  },
  {
   "cell_type": "code",
   "execution_count": null,
   "metadata": {},
   "outputs": [],
   "source": []
  },
  {
   "cell_type": "code",
   "execution_count": null,
   "metadata": {},
   "outputs": [],
   "source": [
    "'''\n",
    "# Setup\n",
    "import geopandas as gpd\n",
    "\n",
    "from scipy.spatial import Voronoi, voronoi_plot_2d\n",
    "\n",
    "from shapely.geometry import Polygon,Point\n",
    "\n",
    "def voronoi_finite_polygons_2d(vor, radius=None):\n",
    "    \"\"\"\n",
    "    Reconstruct infinite voronoi regions in a 2D diagram to finite\n",
    "    regions.\n",
    "    Parameters\n",
    "    ----------\n",
    "    vor : Voronoi\n",
    "        Input diagram\n",
    "    radius : float, optional\n",
    "        Distance to 'points at infinity'.\n",
    "    Returns\n",
    "    -------\n",
    "    regions : list of tuples\n",
    "        Indices of vertices in each revised Voronoi regions.\n",
    "    vertices : list of tuples\n",
    "        Coordinates for revised Voronoi vertices. Same as coordinates\n",
    "        of input vertices, with 'points at infinity' appended to the\n",
    "        end.\n",
    "    \"\"\"\n",
    "\n",
    "    if vor.points.shape[1] != 2:\n",
    "        raise ValueError(\"Requires 2D input\")\n",
    "\n",
    "    new_regions = []\n",
    "    new_vertices = vor.vertices.tolist()\n",
    "\n",
    "    center = vor.points.mean(axis=0)\n",
    "    if radius is None:\n",
    "        radius = vor.points.ptp().max()*2\n",
    "\n",
    "    # Construct a map containing all ridges for a given point\n",
    "    all_ridges = {}\n",
    "    for (p1, p2), (v1, v2) in zip(vor.ridge_points, vor.ridge_vertices):\n",
    "        all_ridges.setdefault(p1, []).append((p2, v1, v2))\n",
    "        all_ridges.setdefault(p2, []).append((p1, v1, v2))\n",
    "\n",
    "    # Reconstruct infinite regions\n",
    "    for p1, region in enumerate(vor.point_region):\n",
    "        vertices = vor.regions[region]\n",
    "\n",
    "        if all(v >= 0 for v in vertices):\n",
    "            # finite region\n",
    "            new_regions.append(vertices)\n",
    "            continue\n",
    "\n",
    "        # reconstruct a non-finite region\n",
    "        ridges = all_ridges[p1]\n",
    "        new_region = [v for v in vertices if v >= 0]\n",
    "\n",
    "        for p2, v1, v2 in ridges:\n",
    "            if v2 < 0:\n",
    "                v1, v2 = v2, v1\n",
    "            if v1 >= 0:\n",
    "                # finite ridge: already in the region\n",
    "                continue\n",
    "\n",
    "            # Compute the missing endpoint of an infinite ridge\n",
    "\n",
    "            t = vor.points[p2] - vor.points[p1] # tangent\n",
    "            t /= np.linalg.norm(t)\n",
    "            n = np.array([-t[1], t[0]])  # normal\n",
    "\n",
    "            midpoint = vor.points[[p1, p2]].mean(axis=0)\n",
    "            direction = np.sign(np.dot(midpoint - center, n)) * n\n",
    "            far_point = vor.vertices[v2] + direction * radius\n",
    "\n",
    "            new_region.append(len(new_vertices))\n",
    "            new_vertices.append(far_point.tolist())\n",
    "\n",
    "        # sort region counterclockwise\n",
    "        vs = np.asarray([new_vertices[v] for v in new_region])\n",
    "        c = vs.mean(axis=0)\n",
    "        angles = np.arctan2(vs[:,1] - c[1], vs[:,0] - c[0])\n",
    "        new_region = np.array(new_region)[np.argsort(angles)]\n",
    "\n",
    "        # finish\n",
    "        new_regions.append(new_region.tolist())\n",
    "\n",
    "    return new_regions, np.asarray(new_vertices)\n",
    "\n",
    "def produce_bounded_regions_padding(df_of_points, x_col='x', y_col='y', padding=0.05):\n",
    "    # Get (potentially infinite) voronoi cells\n",
    "    vor = Voronoi(df_of_points[[x_col, y_col]].as_matrix())\n",
    "\n",
    "    # Constrain regions to be finite (but still potentially huge)\n",
    "    constrained_regions, constrained_vertices = voronoi_finite_polygons_2d(vor)\n",
    "\n",
    "    # Convert to shapely polygons\n",
    "    constrained_polygons = [Polygon([constrained_vertices[k] for k in r]) for r in constrained_regions]\n",
    "\n",
    "    # Associate our original points (by index) with the constrained regions\n",
    "    indexed_constrained_polygons = []\n",
    "    for idx, row in df_of_points.iterrows():\n",
    "        for cpoly in constrained_polygons:\n",
    "            if cpoly.contains(Point(row[x_col], row[y_col])):\n",
    "                indexed_constrained_polygons += [[idx, cpoly]]\n",
    "\n",
    "    # Create geopandas frame\n",
    "    df_constrained = gpd.GeoDataFrame({'geometry': [data[1] for data in indexed_constrained_polygons],\n",
    "                                       'original_index': [data[0] for data in indexed_constrained_polygons]\n",
    "                                       })\n",
    "\n",
    "    # Create bounding box as a second geopandas frame\n",
    "    l = min(df_of_points[x_col])\n",
    "    r = max(df_of_points[x_col])\n",
    "    d = min(df_of_points[y_col])\n",
    "    u = max(df_of_points[y_col])\n",
    "    width = r - l\n",
    "    height = u - d\n",
    "    pad_l = l - padding * width\n",
    "    pad_r = r + padding * width\n",
    "    pad_d = d - padding * height\n",
    "    pad_u = u + padding * height\n",
    "    boundary_box = Polygon([(pad_l, pad_d), (pad_r, pad_d), (pad_r, pad_u), (pad_l, pad_u)])\n",
    "    df_bounding = gpd.GeoDataFrame({'geometry': [boundary_box]})\n",
    "\n",
    "    # Apply bounding box to constrained polygons\n",
    "    df_bounded = gpd.overlay(df_constrained, df_bounding, how='intersection')\n",
    "\n",
    "    # Glue back on any additional data values\n",
    "    df_bounded = df_bounded.merge(df_of_points, how='left', left_on='original_index', right_index=True)\n",
    "\n",
    "    return df_bounded\n",
    "\n",
    "def build_tableau_id(row):\n",
    "    # Hardcoded as we'll definitely create these columns below\n",
    "    return str(row['original_index'])+'-'+row['geom_type']\n",
    "\n",
    "\n",
    "def produce_tableau_points_and_polys(bounded_df, data_cols, x_col='x', y_col='y'):\n",
    "    # For original points, a 'polygon' definition with a single path vertex\n",
    "    point_columns = list(data_cols)\n",
    "    point_columns += ['original_index', x_col, y_col]\n",
    "    point_df = bounded_df[point_columns].copy()\n",
    "    point_df['geom_type'] = 'point'\n",
    "    point_df['path_index'] = 1\n",
    "\n",
    "    # For voronoi cells, a polygon path (avoiding repeated point)\n",
    "    unpacked_coords = []\n",
    "    for idx, row in bounded_df.iterrows():\n",
    "        vertex_count = 1\n",
    "        cell_boundary = row['geometry'].boundary.coords\n",
    "        for k in range(len(cell_boundary) - 1):  # -1 to prevent repeat vertex\n",
    "            unpacked_coords += [[row['original_index'], vertex_count, cell_boundary[k][0], cell_boundary[k][1]]]\n",
    "            vertex_count += 1\n",
    "\n",
    "    # Convert to dataframe and add tableau labelling\n",
    "    poly_df = pd.DataFrame(unpacked_coords, columns=['original_index', 'path_index', x_col, y_col])\n",
    "    poly_df['geom_type'] = 'polygon'\n",
    "\n",
    "    # Reattach additional data values\n",
    "    poly_columns = list(data_cols)\n",
    "    poly_columns += ['original_index']\n",
    "    data_df = bounded_df[poly_columns].copy()\n",
    "    poly_df = poly_df.merge(data_df, how='left', on='original_index')\n",
    "\n",
    "    # Glue the two sets together\n",
    "    combined_df = pd.concat([point_df, poly_df])\n",
    "    \n",
    "    # Create a tableau_id for detail shelf, that distinguishes points and polygons\n",
    "    combined_df['tableau_index']=combined_df.apply(lambda row: build_tableau_id(row),axis=1)\n",
    "\n",
    "    return combined_df\n",
    "\n",
    "# Process (note that longitude is X and latitude is Y!)\n",
    "aqd = produce_bounded_regions_padding(ed_df,'LONGITUDE','LATITUDE')\n",
    "\n",
    "aqd2 = aqd.query(' NAME!=\"POINT\" ')\n",
    "\n",
    "# Convert for export\n",
    "tableau_out = produce_tableau_points_and_polys(aqd2, ['NAME'], 'LONGITUDE','LATITUDE')\n",
    "\n",
    "\n",
    "# Review\n",
    "tableau_out.head()\n",
    "\n",
    "# Looks suitable, so push to csv\n",
    "tableau_out.to_csv(\"./Pre-processing/George_DCC_code/Checkpoints from NACE/gridiron/Education_P_Vo.csv\",index=False)\n",
    "\n",
    "'''"
   ]
  },
  {
   "cell_type": "code",
   "execution_count": null,
   "metadata": {},
   "outputs": [],
   "source": []
  }
 ],
 "metadata": {
  "kernelspec": {
   "display_name": "Python 3",
   "language": "python",
   "name": "python3"
  },
  "language_info": {
   "codemirror_mode": {
    "name": "ipython",
    "version": 3
   },
   "file_extension": ".py",
   "mimetype": "text/x-python",
   "name": "python",
   "nbconvert_exporter": "python",
   "pygments_lexer": "ipython3",
   "version": "3.7.3"
  }
 },
 "nbformat": 4,
 "nbformat_minor": 2
}
